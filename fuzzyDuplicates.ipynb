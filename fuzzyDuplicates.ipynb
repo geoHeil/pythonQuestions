{
 "cells": [
  {
   "cell_type": "markdown",
   "metadata": {},
   "source": [
    "# Fuzzy duplicate detection\n",
    "fingerprinting"
   ]
  },
  {
   "cell_type": "markdown",
   "metadata": {},
   "source": [
    "Two strings can easily be compared using https://github.com/seatgeek/fuzzywuzzy"
   ]
  },
  {
   "cell_type": "code",
   "execution_count": 1,
   "metadata": {
    "collapsed": false
   },
   "outputs": [],
   "source": [
    "import pandas as pd\n",
    "from fuzzywuzzy import fuzz"
   ]
  },
  {
   "cell_type": "code",
   "execution_count": 2,
   "metadata": {
    "collapsed": false
   },
   "outputs": [
    {
     "data": {
      "text/plain": [
       "0    75\n",
       "1    33\n",
       "dtype: int64"
      ]
     },
     "execution_count": 2,
     "metadata": {},
     "output_type": "execute_result"
    }
   ],
   "source": [
    "d = pd.DataFrame({'one': ['fuzz', 'wuzz'], 'two': ['fizz', 'woo']})\n",
    "\n",
    "d.apply(lambda s: fuzz.partial_ratio(s['one'], s['two']), axis=1)"
   ]
  },
  {
   "cell_type": "markdown",
   "metadata": {},
   "source": [
    "But what if I want to perform such a operation with each row of a dataframe vs. all the other rows e.g. find duplicates?"
   ]
  },
  {
   "cell_type": "code",
   "execution_count": 3,
   "metadata": {
    "collapsed": false
   },
   "outputs": [
    {
     "data": {
      "text/html": [
       "<div>\n",
       "<table border=\"1\" class=\"dataframe\">\n",
       "  <thead>\n",
       "    <tr style=\"text-align: right;\">\n",
       "      <th></th>\n",
       "      <th>bank</th>\n",
       "      <th>date</th>\n",
       "      <th>email</th>\n",
       "      <th>id</th>\n",
       "      <th>name</th>\n",
       "    </tr>\n",
       "  </thead>\n",
       "  <tbody>\n",
       "    <tr>\n",
       "      <th>0</th>\n",
       "      <td>IBAN1</td>\n",
       "      <td>2016-01-01</td>\n",
       "      <td>first@email.com</td>\n",
       "      <td>1</td>\n",
       "      <td>name1</td>\n",
       "    </tr>\n",
       "    <tr>\n",
       "      <th>1</th>\n",
       "      <td>IBAN2</td>\n",
       "      <td>2016-01-02</td>\n",
       "      <td>1@email.com</td>\n",
       "      <td>2</td>\n",
       "      <td>name1</td>\n",
       "    </tr>\n",
       "    <tr>\n",
       "      <th>2</th>\n",
       "      <td>IBAN1</td>\n",
       "      <td>2016-01-02</td>\n",
       "      <td>iTrickYouAndStealIBAN1sBank@other.com</td>\n",
       "      <td>3</td>\n",
       "      <td>name3</td>\n",
       "    </tr>\n",
       "  </tbody>\n",
       "</table>\n",
       "</div>"
      ],
      "text/plain": [
       "    bank        date                                  email id   name\n",
       "0  IBAN1  2016-01-01                        first@email.com  1  name1\n",
       "1  IBAN2  2016-01-02                            1@email.com  2  name1\n",
       "2  IBAN1  2016-01-02  iTrickYouAndStealIBAN1sBank@other.com  3  name3"
      ]
     },
     "execution_count": 3,
     "metadata": {},
     "output_type": "execute_result"
    }
   ],
   "source": [
    "d = pd.DataFrame({'id': ['1', '2', '3'], 'email': ['first@email.com', '1@email.com', 'iTrickYouAndStealIBAN1sBank@other.com'], 'bank': ['IBAN1', 'IBAN2', 'IBAN1'], 'name': ['name1', 'name1', 'name3'], 'date': ['2016-01-01', '2016-01-02', '2016-01-02']})\n",
    "d"
   ]
  },
  {
   "cell_type": "markdown",
   "metadata": {},
   "source": [
    "Get each row as a string. Or would you recommend to calculate the distance per field and add them up?"
   ]
  },
  {
   "cell_type": "code",
   "execution_count": 4,
   "metadata": {
    "collapsed": false
   },
   "outputs": [
    {
     "data": {
      "text/html": [
       "<div>\n",
       "<table border=\"1\" class=\"dataframe\">\n",
       "  <thead>\n",
       "    <tr style=\"text-align: right;\">\n",
       "      <th></th>\n",
       "      <th>0</th>\n",
       "    </tr>\n",
       "  </thead>\n",
       "  <tbody>\n",
       "    <tr>\n",
       "      <th>0</th>\n",
       "      <td>IBAN1,2016-01-01,first@email.com,1,name1</td>\n",
       "    </tr>\n",
       "    <tr>\n",
       "      <th>1</th>\n",
       "      <td>IBAN2,2016-01-02,1@email.com,2,name1</td>\n",
       "    </tr>\n",
       "    <tr>\n",
       "      <th>2</th>\n",
       "      <td>IBAN1,2016-01-02,iTrickYouAndStealIBAN1sBank@o...</td>\n",
       "    </tr>\n",
       "  </tbody>\n",
       "</table>\n",
       "</div>"
      ],
      "text/plain": [
       "                                                   0\n",
       "0           IBAN1,2016-01-01,first@email.com,1,name1\n",
       "1               IBAN2,2016-01-02,1@email.com,2,name1\n",
       "2  IBAN1,2016-01-02,iTrickYouAndStealIBAN1sBank@o..."
      ]
     },
     "execution_count": 4,
     "metadata": {},
     "output_type": "execute_result"
    }
   ],
   "source": [
    "x = d.to_string(header=False,\n",
    "                  index=False,\n",
    "                  index_names=False).split('\\n')\n",
    "vals = pd.DataFrame([','.join(ele.split()) for ele in x])\n",
    "vals"
   ]
  },
  {
   "cell_type": "markdown",
   "metadata": {},
   "source": [
    "The numbers here do not work out e.g. index 2 / id3 should be a duplicate with 1. Ideally certain columns e.g. bank would be weighted like http://stackoverflow.com/questions/19964546/python-pandas-fuzzy-merge-match-with-duplicates"
   ]
  },
  {
   "cell_type": "code",
   "execution_count": 5,
   "metadata": {
    "collapsed": false
   },
   "outputs": [
    {
     "data": {
      "text/plain": [
       "0    72\n",
       "1    69\n",
       "2    68\n",
       "dtype: int64"
      ]
     },
     "execution_count": 5,
     "metadata": {},
     "output_type": "execute_result"
    }
   ],
   "source": [
    "vals.apply(lambda s: fuzz.partial_ratio(s, vals), axis=1)"
   ]
  },
  {
   "cell_type": "markdown",
   "metadata": {},
   "source": [
    "Here, at least the numers work correctly"
   ]
  },
  {
   "cell_type": "code",
   "execution_count": 8,
   "metadata": {
    "collapsed": false
   },
   "outputs": [
    {
     "data": {
      "text/plain": [
       "0    81\n",
       "1    81\n",
       "2    85\n",
       "dtype: int64"
      ]
     },
     "execution_count": 8,
     "metadata": {},
     "output_type": "execute_result"
    }
   ],
   "source": [
    "vals.apply(lambda s: fuzz.token_set_ratio(s, vals), axis=1)"
   ]
  },
  {
   "cell_type": "markdown",
   "metadata": {},
   "source": [
    "### Question 1 (the basics)\n",
    "How to find duplicates of one column vs. all the other ones without a gigantic for loop of converting row_i toString() and then comparing it to all the other ones?\n",
    "\n",
    "### Question 2 (what I want to achieve)\n",
    "Use the date column and add and additional column to `d` which describes *daysSinceLastPurchase*, which e.g. for *id 3* should be `today - 2016-01-01` because the \"real last purches\" occured just a day before\n"
   ]
  },
  {
   "cell_type": "markdown",
   "metadata": {},
   "source": [
    "# after the initial question -> BK tree\n",
    "https://gist.github.com/nibogd/94363e93f4e0256b4665eb743dbfa211"
   ]
  },
  {
   "cell_type": "code",
   "execution_count": 9,
   "metadata": {
    "collapsed": false
   },
   "outputs": [
    {
     "name": "stdout",
     "output_type": "stream",
     "text": [
      "Tests finished.\n",
      "['cabana', 'wick', 'chill', 'shod']\n",
      "0 0\n",
      "1 0\n",
      "2 0\n",
      "3 0\n",
      "4 4\n",
      "5 12\n",
      "6 15\n",
      "7 24\n",
      "8 29\n",
      "9 35\n",
      "10 38\n",
      "11 39\n"
     ]
    }
   ],
   "source": [
    "\"\"\"\n",
    "bktree3.py, by phash\n",
    "Based on bktree.py by bearophile ( http://code.activestate.com/recipes/572156-bk-tree/ )\n",
    "Fixed for python 3\n",
    "\n",
    "Fast Levenshtein distance and BK-tree implementations in Python.\n",
    "\"\"\"\n",
    "\n",
    "def editDistance(s1, s2):\n",
    "    \"\"\"Computes the Levenshtein distance between two arrays (strings too).\n",
    "    Such distance is the minimum number of operations needed to transform one array into\n",
    "    the other, where an operation is an insertion, deletion, or substitution of a single\n",
    "    item (like a char). This implementation (Wagner-Fischer algorithm with just 2 lines)\n",
    "    uses O(min(|s1|, |s2|)) space.\n",
    "\n",
    "    editDistance([], [])\n",
    "    0\n",
    "    >>> editDistance([1, 2, 3], [2, 3, 5])\n",
    "    2\n",
    "    >>> tests = [[\"\", \"\"], [\"a\", \"\"], [\"\", \"a\"], [\"a\", \"a\"], [\"x\", \"a\"],\n",
    "    ...          [\"aa\", \"\"], [\"\", \"aa\"], [\"aa\", \"aa\"], [\"ax\", \"aa\"], [\"a\", \"aa\"], [\"aa\", \"a\"],\n",
    "    ...          [\"abcdef\", \"\"], [\"\", \"abcdef\"], [\"abcdef\", \"abcdef\"],\n",
    "    ...          [\"vintner\", \"writers\"], [\"vintners\", \"writers\"]];\n",
    "    >>> [editDistance(s1, s2) for s1,s2 in tests]\n",
    "    [0, 1, 1, 0, 1, 2, 2, 0, 1, 1, 1, 6, 6, 0, 5, 4]\n",
    "    \"\"\"\n",
    "    if s1 == s2: return 0 # this is fast in Python\n",
    "    if len(s1) > len(s2):\n",
    "        s1, s2 = s2, s1\n",
    "    r1 = list(range(len(s2) + 1))\n",
    "    r2 = [0] * len(r1)\n",
    "    i = 0\n",
    "    for c1 in s1:\n",
    "        r2[0] = i + 1\n",
    "        j = 0\n",
    "        for c2 in s2:\n",
    "            if c1 == c2:\n",
    "                r2[j+1] = r1[j]\n",
    "            else:\n",
    "                a1 = r2[j]\n",
    "                a2 = r1[j]\n",
    "                a3 = r1[j+1]\n",
    "                if a1 > a2:\n",
    "                    if a2 > a3:\n",
    "                        r2[j+1] = 1 + a3\n",
    "                    else:\n",
    "                        r2[j+1] = 1 + a2\n",
    "                else:\n",
    "                    if a1 > a3:\n",
    "                        r2[j+1] = 1 + a3\n",
    "                    else:\n",
    "                        r2[j+1] = 1 + a1\n",
    "            j += 1\n",
    "        aux = r1; r1 = r2; r2 = aux\n",
    "        i += 1\n",
    "    return r1[-1]\n",
    "\n",
    "\n",
    "def editDistanceFast(s1, s2, r1=[0]*35, r2=[0]*35):\n",
    "    \"\"\"Computes the Levenshtein distance between two arrays (strings too).\n",
    "    Such distance is the minimum number of operations needed to transform one array into\n",
    "    the other, where an operation is an insertion, deletion, or substitution of a single\n",
    "    item (like a char). This implementation (Wagner-Fischer algorithm with just 2 lines)\n",
    "    uses O(min(|s1|, |s2|)) space.\n",
    "\n",
    "    This version is a bit faster but it works only with strings up to 34 items long.\n",
    "\n",
    "    editDistanceFast([], [])\n",
    "    0\n",
    "    >>> editDistanceFast([1, 2, 3], [2, 3, 5])\n",
    "    2\n",
    "    >>> tests = [[\"\", \"\"], [\"a\", \"\"], [\"\", \"a\"], [\"a\", \"a\"], [\"x\", \"a\"],\n",
    "    ...          [\"aa\", \"\"], [\"\", \"aa\"], [\"aa\", \"aa\"], [\"ax\", \"aa\"], [\"a\", \"aa\"], [\"aa\", \"a\"],\n",
    "    ...          [\"abcdef\", \"\"], [\"\", \"abcdef\"], [\"abcdef\", \"abcdef\"],\n",
    "    ...          [\"vintner\", \"writers\"], [\"vintners\", \"writers\"]];\n",
    "    >>> [editDistanceFast(s1, s2) for s1,s2 in tests]\n",
    "    [0, 1, 1, 0, 1, 2, 2, 0, 1, 1, 1, 6, 6, 0, 5, 4]\n",
    "    \"\"\"\n",
    "    if s1 == s2: return 0 # this is fast in Python\n",
    "    if len(s1) > len(s2):\n",
    "        s1, s2 = s2, s1\n",
    "    len_s2 = len(s2)\n",
    "    assert len(s2) <= 34, \"Error: one input sequence is too much long (> 34), use editDistance().\"\n",
    "    for i in range(len_s2 + 1):\n",
    "        r1[i] = i\n",
    "        r2[i] = 0\n",
    "    i = 0\n",
    "    for c1 in s1:\n",
    "        r2[0] = i + 1\n",
    "        j = 0\n",
    "        for c2 in s2:\n",
    "            if c1 == c2:\n",
    "                r2[j+1] = r1[j]\n",
    "            else:\n",
    "                a1 = r2[j]\n",
    "                a2 = r1[j]\n",
    "                a3 = r1[j+1]\n",
    "                if a1 > a2:\n",
    "                    if a2 > a3:\n",
    "                        r2[j+1] = 1 + a3\n",
    "                    else:\n",
    "                        r2[j+1] = 1 + a2\n",
    "                else:\n",
    "                    if a1 > a3:\n",
    "                        r2[j+1] = 1 + a3\n",
    "                    else:\n",
    "                        r2[j+1] = 1 + a1\n",
    "            j += 1\n",
    "        aux = r1; r1 = r2; r2 = aux\n",
    "        i += 1\n",
    "    return r1[len_s2]\n",
    "\n",
    "\n",
    "class BKtree(object):\n",
    "    \"\"\"\n",
    "    BKtree(items, distance): inputs are an iterable of hashable items that\n",
    "    must allow the __next__() method too, and a callable that computes the distance (that\n",
    "    mets the positivity, symmetry and triangle inequality conditions) between two items.\n",
    "\n",
    "    It allows a fast search of similar items. The indexing phase may be slow,\n",
    "    so this is useful only if you want to perform many searches.\n",
    "\n",
    "    It raises a AttributeError if items doesn't have the .__next__() method.\n",
    "\n",
    "    It can be used with strings, using editDistance()/editDistanceFast()\n",
    "\n",
    "    Once initialized, you can retrieve items using xfind/find, giving an item\n",
    "    and a threshold distance.\n",
    "\n",
    "    >>> t = BKtree([], distance=editDistanceFast)\n",
    "    Traceback (most recent call last):\n",
    "      ...\n",
    "    AttributeError: 'list' object has no attribute '__next__'\n",
    "    >>> t = BKtree(iter([]), distance=editDistanceFast)\n",
    "    >>> t.find(\"hello\", 1), t.find(\"\", 0)\n",
    "    ([], [])\n",
    "\n",
    "    >>> ws = \"abyss almond clump cubic cuba adopt abused chronic abutted cube clown admix almsman\"\n",
    "    >>> t = BKtree(iter(ws.split()), distance=editDistanceFast)\n",
    "    >>> [len(t.find(\"cuba\", th)) for th in range(7)]\n",
    "    [1, 2, 3, 4, 5, 9, 13]\n",
    "    >>> [t.find(\"cuba\", th) for th in range(4)]\n",
    "    [['cuba'], ['cuba', 'cube'], ['cubic', 'cuba', 'cube'], ['clump', 'cubic', 'cuba', 'cube']]\n",
    "    >>> [len(t.find(\"abyss\", th)) for th in range(7)]\n",
    "    [1, 1, 1, 2, 4, 12, 12]\n",
    "    >>> [t.find(\"abyss\", th) for th in range(4)]\n",
    "    [['abyss'], ['abyss'], ['abyss'], ['abyss', 'abused']]\n",
    "    \"\"\"\n",
    "    def __init__(self, items, distance):\n",
    "        self.distance = distance\n",
    "        self.nodes = {}\n",
    "        try:\n",
    "            self.root = items.__next__()\n",
    "        except StopIteration:\n",
    "            self.root = \"\"\n",
    "            return\n",
    "\n",
    "        self.nodes[self.root] = [] # the value is a list of tuples (word, distance)\n",
    "        for el in items:\n",
    "            if el not in self.nodes: # do not add duplicates\n",
    "                self._addLeaf(self.root, el)\n",
    "\n",
    "    def _addLeaf(self, root, item):\n",
    "        dist = self.distance(root, item)\n",
    "        if dist > 0:\n",
    "            for arc in self.nodes[root]:\n",
    "                if dist == arc[1]:\n",
    "                    self._addLeaf(arc[0], item)\n",
    "                    break\n",
    "            else:\n",
    "                if item not in self.nodes:\n",
    "                    self.nodes[item] = []\n",
    "                self.nodes[root].append((item, dist))\n",
    "\n",
    "    def find(self, item, threshold):\n",
    "        \"Return an array with all the items found with distance <= threshold from item.\"\n",
    "        result = []\n",
    "        if self.nodes:\n",
    "            self._finder(self.root, item, threshold, result)\n",
    "        return result\n",
    "\n",
    "    def _finder(self, root, item, threshold, result):\n",
    "        dist = self.distance(root, item)\n",
    "        if dist <= threshold:\n",
    "            result.append(root)\n",
    "        dmin = dist - threshold\n",
    "        dmax = dist + threshold\n",
    "        for arc in self.nodes[root]:\n",
    "            if dmin <= arc[1] <= dmax:\n",
    "                self._finder(arc[0], item, threshold, result)\n",
    "\n",
    "    def xfind(self, item, threshold):\n",
    "        \"Like find, but yields items lazily. This is slower than find if you need a list.\"\n",
    "        if self.nodes:\n",
    "            return self._xfinder(self.root, item, threshold)\n",
    "\n",
    "    def _xfinder(self, root, item, threshold):\n",
    "        dist = self.distance(root, item)\n",
    "        if dist <= threshold:\n",
    "            yield root\n",
    "        dmin = dist - threshold\n",
    "        dmax = dist + threshold\n",
    "        for arc in self.nodes[root]:\n",
    "            if dmin <= arc[1] <= dmax:\n",
    "                for node in self._xfinder(arc[0], item, threshold):\n",
    "                    yield node\n",
    "\n",
    "\n",
    "if __name__ == \"__main__\":\n",
    "    import doctest\n",
    "    doctest.testmod()\n",
    "    print(\"Tests finished.\")\n",
    "\n",
    "    # You need a list of words\n",
    "    #words = file(\"somewordlist.txt\").read().split()\n",
    "\n",
    "    words = iter(\"\"\"periclean germs progressed laughing allying wasting\n",
    "    harassing nonsynchronous grumbled ledgers schelling shod mutating\n",
    "    statewide schuman following reddened nairobi cultivate malted\n",
    "    overpowering mechanic paraphrase lucerne plugged wick complimented\n",
    "    roarer supercomputer impromptu cormorant abandons equalized channing\n",
    "    chill bacon nonnumerical cabana amazing rheumatism\"\"\".split())\n",
    "\n",
    "    tree = BKtree(words, editDistanceFast)\n",
    "\n",
    "    print(tree.find(\"cube\", 4)) # ['cabana', 'wick', 'chill', 'shod']\n",
    "\n",
    "    for thresh in range(12):\n",
    "        print(thresh, len(tree.find(\"cube\", thresh)))\n"
   ]
  },
  {
   "cell_type": "code",
   "execution_count": 10,
   "metadata": {
    "collapsed": true
   },
   "outputs": [],
   "source": [
    "#fuzz.partial_ratio\n",
    "tree = BKtree(words, fuzz.partial_ratio)\n",
    "#print(tree.find(\"cube\", 4))"
   ]
  },
  {
   "cell_type": "code",
   "execution_count": 17,
   "metadata": {
    "collapsed": false
   },
   "outputs": [
    {
     "data": {
      "text/plain": [
       "[]"
      ]
     },
     "execution_count": 17,
     "metadata": {},
     "output_type": "execute_result"
    }
   ],
   "source": [
    "tree.find(\"cube\", 33)"
   ]
  },
  {
   "cell_type": "code",
   "execution_count": 25,
   "metadata": {
    "collapsed": false
   },
   "outputs": [
    {
     "data": {
      "text/plain": [
       "{}"
      ]
     },
     "execution_count": 25,
     "metadata": {},
     "output_type": "execute_result"
    }
   ],
   "source": [
    "tree.nodes"
   ]
  },
  {
   "cell_type": "code",
   "execution_count": null,
   "metadata": {
    "collapsed": true
   },
   "outputs": [],
   "source": []
  }
 ],
 "metadata": {
  "kernelspec": {
   "display_name": "Python 3",
   "language": "python",
   "name": "python3"
  },
  "language_info": {
   "codemirror_mode": {
    "name": "ipython",
    "version": 3
   },
   "file_extension": ".py",
   "mimetype": "text/x-python",
   "name": "python",
   "nbconvert_exporter": "python",
   "pygments_lexer": "ipython3",
   "version": "3.5.2"
  }
 },
 "nbformat": 4,
 "nbformat_minor": 1
}
