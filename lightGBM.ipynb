{
 "cells": [
  {
   "cell_type": "code",
   "execution_count": 1,
   "metadata": {
    "collapsed": true
   },
   "outputs": [],
   "source": [
    "import pandas as pd\n",
    "import numpy as np\n",
    "from sklearn.model_selection import StratifiedShuffleSplit\n",
    "from pylightgbm.models import GBMClassifier\n",
    "\n",
    "_seed=49\n",
    "\n",
    "def transformToXy(data):\n",
    "    # Extract the data\n",
    "    X = data.drop(['TARGET'], axis=1)\n",
    "    # Extract the labels\n",
    "    y = data['TARGET']\n",
    "    return X, y"
   ]
  },
  {
   "cell_type": "markdown",
   "metadata": {},
   "source": [
    "Regular dataset has around 300k rows with around 3% positives of the binary target class. It consists of regular numeric columns, ordered categoricals encoded as 1,2,3 and factor variables which are dummy-coded. Only the ones which do not have a too large number of factors are used as factors for the dummy coding. The other ones are transformed into a numeric space e.g. by calculating a percentage of the target class contained in this factor variable. In total (after the dummy coding) there are a little bit less than 10k columns.\n",
    "\n",
    "Below I tried to generate a sample df, Howver did not (yet) succed."
   ]
  },
  {
   "cell_type": "code",
   "execution_count": 9,
   "metadata": {
    "collapsed": false,
    "scrolled": false
   },
   "outputs": [
    {
     "data": {
      "text/plain": [
       "(100000, 406)"
      ]
     },
     "execution_count": 9,
     "metadata": {},
     "output_type": "execute_result"
    }
   ],
   "source": [
    "targetdf = pd.DataFrame(np.random.randint(0,2,(100000,1)),columns=['TARGET'])\n",
    "XDF = pd.DataFrame(np.random.randint(0,100,(100000,10)),columns=list('ABCDEFGHIJ'))\n",
    "XDF['A'] = XDF['A'].astype('category')\n",
    "XDF['B'] = XDF['B'].astype('category')\n",
    "XDF['C'] = XDF['C'].astype('category')\n",
    "XDF['D'] = XDF['D'].astype('category')\n",
    "\n",
    "mydf = pd.concat([targetdf, XDF], join='inner', axis=1)\n",
    "mydf = pd.get_dummies(mydf, sparse=False)\n",
    "X, y = transformToXy(mydf)\n",
    "X.shape"
   ]
  },
  {
   "cell_type": "code",
   "execution_count": 12,
   "metadata": {
    "collapsed": false,
    "scrolled": false
   },
   "outputs": [
    {
     "name": "stdout",
     "output_type": "stream",
     "text": [
      "[LightGBM] [Info] Loading parameters .. finished\n",
      "[LightGBM] [Info] Finish loading data, use 0.843833 seconds\n",
      "[LightGBM] [Info] Number of postive:40023,  number of negative:39977\n",
      "[LightGBM] [Info] Number of data:80000, Number of features:406\n",
      "[LightGBM] [Info] Finish training initilization.\n",
      "[LightGBM] [Info] Start train\n",
      "[LightGBM] [Info] 0.033051 seconds elapsed, finished 1 iteration\n",
      "[LightGBM] [Info] 0.074876 seconds elapsed, finished 2 iteration\n",
      "[LightGBM] [Info] 0.108249 seconds elapsed, finished 3 iteration\n",
      "[LightGBM] [Info] 0.146607 seconds elapsed, finished 4 iteration\n",
      "[LightGBM] [Info] 0.182826 seconds elapsed, finished 5 iteration\n",
      "[LightGBM] [Info] 0.216487 seconds elapsed, finished 6 iteration\n",
      "[LightGBM] [Info] 0.250089 seconds elapsed, finished 7 iteration\n",
      "[LightGBM] [Info] 0.281025 seconds elapsed, finished 8 iteration\n",
      "[LightGBM] [Info] 0.306693 seconds elapsed, finished 9 iteration\n",
      "[LightGBM] [Info] 0.336431 seconds elapsed, finished 10 iteration\n",
      "[LightGBM] [Info] Finish train\n",
      "\n"
     ]
    },
    {
     "ename": "CalledProcessError",
     "evalue": "Command '['/Users/geoHeil/neverpayer/lightgbm', 'config=/var/folders/zm/bts0g37j0l9637sjxb3b700h0000gn/T/tmpelcap5qd/predict.conf']' returned non-zero exit status 1",
     "output_type": "error",
     "traceback": [
      "\u001b[0;31m---------------------------------------------------------------------------\u001b[0m",
      "\u001b[0;31mCalledProcessError\u001b[0m                        Traceback (most recent call last)",
      "\u001b[0;32m<ipython-input-12-ecef9672548f>\u001b[0m in \u001b[0;36m<module>\u001b[0;34m()\u001b[0m\n\u001b[1;32m     18\u001b[0m \u001b[0;34m\u001b[0m\u001b[0m\n\u001b[1;32m     19\u001b[0m     \u001b[0mestimator\u001b[0m\u001b[0;34m.\u001b[0m\u001b[0mfit\u001b[0m\u001b[0;34m(\u001b[0m\u001b[0mX_train\u001b[0m\u001b[0;34m,\u001b[0m \u001b[0my_train\u001b[0m\u001b[0;34m)\u001b[0m\u001b[0;34m\u001b[0m\u001b[0m\n\u001b[0;32m---> 20\u001b[0;31m     \u001b[0my_predicted\u001b[0m \u001b[0;34m=\u001b[0m \u001b[0mestimator\u001b[0m\u001b[0;34m.\u001b[0m\u001b[0mpredict\u001b[0m\u001b[0;34m(\u001b[0m\u001b[0mX_test\u001b[0m\u001b[0;34m)\u001b[0m\u001b[0;34m\u001b[0m\u001b[0m\n\u001b[0m\u001b[1;32m     21\u001b[0m     \u001b[0mprint\u001b[0m\u001b[0;34m(\u001b[0m\u001b[0my_predicted\u001b[0m\u001b[0;34m)\u001b[0m\u001b[0;34m\u001b[0m\u001b[0m\n",
      "\u001b[0;32m/usr/local/lib/python3.5/site-packages/pylightgbm/models.py\u001b[0m in \u001b[0;36mpredict\u001b[0;34m(self, X)\u001b[0m\n\u001b[1;32m    292\u001b[0m \u001b[0;34m\u001b[0m\u001b[0m\n\u001b[1;32m    293\u001b[0m     \u001b[0;32mdef\u001b[0m \u001b[0mpredict\u001b[0m\u001b[0;34m(\u001b[0m\u001b[0mself\u001b[0m\u001b[0;34m,\u001b[0m \u001b[0mX\u001b[0m\u001b[0;34m)\u001b[0m\u001b[0;34m:\u001b[0m\u001b[0;34m\u001b[0m\u001b[0m\n\u001b[0;32m--> 294\u001b[0;31m         \u001b[0my_prob\u001b[0m \u001b[0;34m=\u001b[0m \u001b[0mself\u001b[0m\u001b[0;34m.\u001b[0m\u001b[0mpredict_proba\u001b[0m\u001b[0;34m(\u001b[0m\u001b[0mX\u001b[0m\u001b[0;34m)\u001b[0m\u001b[0;34m\u001b[0m\u001b[0m\n\u001b[0m\u001b[1;32m    295\u001b[0m         \u001b[0;32mreturn\u001b[0m \u001b[0my_prob\u001b[0m\u001b[0;34m.\u001b[0m\u001b[0margmax\u001b[0m\u001b[0;34m(\u001b[0m\u001b[0;34m-\u001b[0m\u001b[0;36m1\u001b[0m\u001b[0;34m)\u001b[0m\u001b[0;34m\u001b[0m\u001b[0m\n\u001b[1;32m    296\u001b[0m \u001b[0;34m\u001b[0m\u001b[0m\n",
      "\u001b[0;32m/usr/local/lib/python3.5/site-packages/pylightgbm/models.py\u001b[0m in \u001b[0;36mpredict_proba\u001b[0;34m(self, X)\u001b[0m\n\u001b[1;32m    279\u001b[0m \u001b[0;34m\u001b[0m\u001b[0m\n\u001b[1;32m    280\u001b[0m         process = subprocess.check_output([self.exec_path, \"config={}\".format(conf_filepath)],\n\u001b[0;32m--> 281\u001b[0;31m                                           universal_newlines=True)\n\u001b[0m\u001b[1;32m    282\u001b[0m \u001b[0;34m\u001b[0m\u001b[0m\n\u001b[1;32m    283\u001b[0m         \u001b[0;32mif\u001b[0m \u001b[0mself\u001b[0m\u001b[0;34m.\u001b[0m\u001b[0mverbose\u001b[0m\u001b[0;34m:\u001b[0m\u001b[0;34m\u001b[0m\u001b[0m\n",
      "\u001b[0;32m/usr/local/Cellar/python3/3.5.2_3/Frameworks/Python.framework/Versions/3.5/lib/python3.5/subprocess.py\u001b[0m in \u001b[0;36mcheck_output\u001b[0;34m(timeout, *popenargs, **kwargs)\u001b[0m\n\u001b[1;32m    624\u001b[0m \u001b[0;34m\u001b[0m\u001b[0m\n\u001b[1;32m    625\u001b[0m     return run(*popenargs, stdout=PIPE, timeout=timeout, check=True,\n\u001b[0;32m--> 626\u001b[0;31m                **kwargs).stdout\n\u001b[0m\u001b[1;32m    627\u001b[0m \u001b[0;34m\u001b[0m\u001b[0m\n\u001b[1;32m    628\u001b[0m \u001b[0;34m\u001b[0m\u001b[0m\n",
      "\u001b[0;32m/usr/local/Cellar/python3/3.5.2_3/Frameworks/Python.framework/Versions/3.5/lib/python3.5/subprocess.py\u001b[0m in \u001b[0;36mrun\u001b[0;34m(input, timeout, check, *popenargs, **kwargs)\u001b[0m\n\u001b[1;32m    706\u001b[0m         \u001b[0;32mif\u001b[0m \u001b[0mcheck\u001b[0m \u001b[0;32mand\u001b[0m \u001b[0mretcode\u001b[0m\u001b[0;34m:\u001b[0m\u001b[0;34m\u001b[0m\u001b[0m\n\u001b[1;32m    707\u001b[0m             raise CalledProcessError(retcode, process.args,\n\u001b[0;32m--> 708\u001b[0;31m                                      output=stdout, stderr=stderr)\n\u001b[0m\u001b[1;32m    709\u001b[0m     \u001b[0;32mreturn\u001b[0m \u001b[0mCompletedProcess\u001b[0m\u001b[0;34m(\u001b[0m\u001b[0mprocess\u001b[0m\u001b[0;34m.\u001b[0m\u001b[0margs\u001b[0m\u001b[0;34m,\u001b[0m \u001b[0mretcode\u001b[0m\u001b[0;34m,\u001b[0m \u001b[0mstdout\u001b[0m\u001b[0;34m,\u001b[0m \u001b[0mstderr\u001b[0m\u001b[0;34m)\u001b[0m\u001b[0;34m\u001b[0m\u001b[0m\n\u001b[1;32m    710\u001b[0m \u001b[0;34m\u001b[0m\u001b[0m\n",
      "\u001b[0;31mCalledProcessError\u001b[0m: Command '['/Users/geoHeil/neverpayer/lightgbm', 'config=/var/folders/zm/bts0g37j0l9637sjxb3b700h0000gn/T/tmpelcap5qd/predict.conf']' returned non-zero exit status 1"
     ]
    }
   ],
   "source": [
    "split = StratifiedShuffleSplit(n_splits=1, test_size=0.2, random_state=_seed)\n",
    "pathToLightGBM = \"/path/to/lightgbm\"\n",
    "for train_index, test_index in split.split(X, y):\n",
    "    X_train = X.iloc[train_index]\n",
    "    X_test = X.iloc[test_index]\n",
    "    y_train = y.iloc[train_index]\n",
    "    y_test = y.iloc[test_index]\n",
    "    \n",
    "    # minimum example does not yet work\n",
    "    #estimator = GBMClassifier(exec_path=pathToLightGBM, \n",
    "    #                          num_iterations=4000, learning_rate=0.01,\n",
    "    #                          num_leaves=2000, min_data_in_leaf=100, metric='binary_logloss',\n",
    "    #                          feature_fraction=0.7, bagging_fraction=0.7, bagging_freq=0,\n",
    "    #                          metric_freq=1, early_stopping_round=20,\n",
    "    #                         tree_learner=\"feature\", num_threads=4,\n",
    "    #                          is_unbalance=True)\n",
    "    # even here a strange failure\n",
    "    estimator = GBMClassifier(exec_path=pathToLightGBM)#, \n",
    "                              #tree_learner=\"feature\", num_threads=4,\n",
    "                              #is_unbalance=True)\n",
    "    \n",
    "    estimator.fit(X_train, y_train)\n",
    "    y_predicted = estimator.predict(X_test)\n",
    "    print(y_predicted)"
   ]
  },
  {
   "cell_type": "code",
   "execution_count": null,
   "metadata": {
    "collapsed": true
   },
   "outputs": [],
   "source": []
  }
 ],
 "metadata": {
  "kernelspec": {
   "display_name": "Python 3",
   "language": "python",
   "name": "python3"
  },
  "language_info": {
   "codemirror_mode": {
    "name": "ipython",
    "version": 3
   },
   "file_extension": ".py",
   "mimetype": "text/x-python",
   "name": "python",
   "nbconvert_exporter": "python",
   "pygments_lexer": "ipython3",
   "version": "3.5.2"
  }
 },
 "nbformat": 4,
 "nbformat_minor": 1
}
