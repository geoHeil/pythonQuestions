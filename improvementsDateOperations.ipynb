{
 "cells": [
  {
   "cell_type": "markdown",
   "metadata": {},
   "source": [
    "# Embarrasingly parallel date operations"
   ]
  },
  {
   "cell_type": "markdown",
   "metadata": {},
   "source": [
    "each row is processed independently\n",
    "\n",
    "I want to calculate the number of days to and after the next holiday. As I am new to python I am unsure how to perform such a calculation efficiently"
   ]
  },
  {
   "cell_type": "code",
   "execution_count": 1,
   "metadata": {
    "collapsed": false
   },
   "outputs": [],
   "source": [
    "%load_ext Cython"
   ]
  },
  {
   "cell_type": "code",
   "execution_count": 2,
   "metadata": {
    "collapsed": false
   },
   "outputs": [],
   "source": [
    "import pandas as pd\n",
    "import numpy as np\n",
    "import matplotlib.pyplot as plt\n",
    "import matplotlib.dates as mdates\n",
    "import matplotlib.cm as cm\n",
    "import datetime as DT\n",
    "\n",
    "import matplotlib.pyplot as plt\n",
    "plt.style.use('ggplot')\n",
    "import time"
   ]
  },
  {
   "cell_type": "markdown",
   "metadata": {},
   "source": [
    "load dates and holidays"
   ]
  },
  {
   "cell_type": "code",
   "execution_count": 3,
   "metadata": {
    "collapsed": false
   },
   "outputs": [],
   "source": [
    "datesFrame = pd.read_csv('myDates.csv')\n",
    "datesFrame.myDates = pd.to_datetime(datesFrame.myDates)\n",
    "\n",
    "holidays = pd.read_csv('holidays.csv')\n",
    "holidays.day = pd.to_datetime(holidays.day)\n",
    "holidays.type = holidays.type.astype(\"category\")\n",
    "holidays.name = holidays.name.astype(\"category\")\n",
    "\n",
    "holidays = holidays[holidays.apply(lambda x: (x.type == 'National holiday'), axis=1)]"
   ]
  },
  {
   "cell_type": "code",
   "execution_count": 4,
   "metadata": {
    "collapsed": false
   },
   "outputs": [],
   "source": [
    "def get_nearest_date(dates, pivot):\n",
    "    nearest = min(dates, key=lambda x: abs(x - pivot))\n",
    "    difference = abs(nearest - pivot)\n",
    "    differenceAsDay = difference / np.timedelta64(1, 'D')\n",
    "    return differenceAsDay.astype(int)"
   ]
  },
  {
   "cell_type": "markdown",
   "metadata": {},
   "source": [
    "## approach 3 - parallelApply"
   ]
  },
  {
   "cell_type": "markdown",
   "metadata": {},
   "source": [
    "Takes 4 min 18 seconds"
   ]
  },
  {
   "cell_type": "code",
   "execution_count": null,
   "metadata": {
    "collapsed": false,
    "scrolled": false
   },
   "outputs": [
    {
     "name": "stdout",
     "output_type": "stream",
     "text": [
      "parallel version: \n"
     ]
    }
   ],
   "source": [
    "from joblib import Parallel, delayed\n",
    "import multiprocessing\n",
    "\n",
    "def get_nearest_dateParallel(df):\n",
    "    df['daysBeforeHoliday'] = df.myDates.apply(lambda x: get_nearest_date(holidays.day[holidays.day < x], x))\n",
    "    df['daysAfterHoliday']  =  df.myDates.apply(lambda x: get_nearest_date(holidays.day[holidays.day > x], x))\n",
    "    return df\n",
    "\n",
    "def applyParallel(dfGrouped, func):\n",
    "    retLst = Parallel(n_jobs=multiprocessing.cpu_count())(delayed(func)(group) for name, group in dfGrouped)\n",
    "    return pd.concat(retLst)\n",
    "\n",
    "print ('parallel version: ')\n",
    "# 2 min 30 seconds\n",
    "%time result = applyParallel(datesFrame.groupby(datesFrame.index), get_nearest_dateParallel)"
   ]
  },
  {
   "cell_type": "code",
   "execution_count": 11,
   "metadata": {
    "collapsed": false
   },
   "outputs": [],
   "source": [
    "#result"
   ]
  },
  {
   "cell_type": "markdown",
   "metadata": {},
   "source": [
    "## approach 5 sorted \n",
    "http://stackoverflow.com/questions/39284989/parallelize-pandas-apply?noredirect=1#comment65962782_39284989\n",
    "\n",
    "Further improvement: How can I utilize pandas.tseries.holiday import USFederalHolidayCalendar for other national calendars instead of my CSV?"
   ]
  },
  {
   "cell_type": "code",
   "execution_count": 12,
   "metadata": {
    "collapsed": false
   },
   "outputs": [],
   "source": [
    "holidays = holidays.set_index('day')\n",
    "holidays.index\n",
    "holidays = holidays.drop(['name','type'], axis=1)"
   ]
  },
  {
   "cell_type": "code",
   "execution_count": 13,
   "metadata": {
    "collapsed": false
   },
   "outputs": [
    {
     "data": {
      "text/plain": [
       "DatetimeIndex(['2013-01-01', '2013-01-06', '2013-04-01', '2013-05-01',\n",
       "               '2013-05-09', '2013-05-20', '2013-05-30', '2013-08-15',\n",
       "               '2013-10-26', '2013-11-01', '2013-12-08', '2013-12-25',\n",
       "               '2013-12-26', '2014-01-01', '2014-01-06', '2014-04-21',\n",
       "               '2014-05-01', '2014-05-29', '2014-06-09', '2014-06-19',\n",
       "               '2014-08-15', '2014-10-26', '2014-11-01', '2014-12-08',\n",
       "               '2014-12-25', '2014-12-26', '2015-01-01', '2015-01-06',\n",
       "               '2015-04-06', '2015-05-01', '2015-05-14', '2015-05-25',\n",
       "               '2015-06-04', '2015-08-15', '2015-10-26', '2015-11-01',\n",
       "               '2015-12-08', '2015-12-25', '2015-12-26', '2016-01-01',\n",
       "               '2016-01-06', '2016-03-28', '2016-05-01', '2016-05-05',\n",
       "               '2016-05-16', '2016-05-26', '2016-08-15', '2016-10-26',\n",
       "               '2016-11-01', '2016-12-08', '2016-12-25', '2016-12-26',\n",
       "               '2017-01-01', '2017-01-06', '2017-04-17', '2017-05-01',\n",
       "               '2017-05-25', '2017-06-05', '2017-06-15', '2017-08-15',\n",
       "               '2017-10-26', '2017-11-01', '2017-12-08', '2017-12-25',\n",
       "               '2017-12-26', '2018-01-01', '2018-01-06', '2018-04-02',\n",
       "               '2018-05-01', '2018-05-10', '2018-05-21', '2018-05-31',\n",
       "               '2018-08-15', '2018-10-26', '2018-11-01', '2018-12-08',\n",
       "               '2018-12-25', '2018-12-26', '2019-01-01', '2019-01-06',\n",
       "               '2019-04-22', '2019-05-01', '2019-05-30', '2019-06-10',\n",
       "               '2019-06-20', '2019-08-15', '2019-10-26', '2019-11-01',\n",
       "               '2019-12-08', '2019-12-25', '2019-12-26'],\n",
       "              dtype='datetime64[ns]', name='day', freq=None)"
      ]
     },
     "execution_count": 13,
     "metadata": {},
     "output_type": "execute_result"
    }
   ],
   "source": [
    "holidays.index"
   ]
  },
  {
   "cell_type": "code",
   "execution_count": 14,
   "metadata": {
    "collapsed": false
   },
   "outputs": [],
   "source": [
    "# datesFrame.myDates"
   ]
  },
  {
   "cell_type": "markdown",
   "metadata": {},
   "source": [
    "All dates already are a timestamp -> why does it not work to convert them?"
   ]
  },
  {
   "cell_type": "code",
   "execution_count": 16,
   "metadata": {
    "collapsed": false
   },
   "outputs": [
    {
     "name": "stdout",
     "output_type": "stream",
     "text": [
      "datetime64[ns]\n",
      "datetime64[ns]\n"
     ]
    }
   ],
   "source": [
    "print(datesFrame.myDates.dtype)\n",
    "print(holidays.index.dtype)\n",
    "# holidays.index.astype(np.int64)"
   ]
  },
  {
   "cell_type": "code",
   "execution_count": 22,
   "metadata": {
    "collapsed": false
   },
   "outputs": [
    {
     "ename": "TypeError",
     "evalue": "invalid type promotion",
     "output_type": "error",
     "traceback": [
      "\u001b[0;31m---------------------------------------------------------------------------\u001b[0m",
      "\u001b[0;31mTypeError\u001b[0m                                 Traceback (most recent call last)",
      "\u001b[0;32m<ipython-input-22-e6d6ae50d950>\u001b[0m in \u001b[0;36m<module>\u001b[0;34m()\u001b[0m\n\u001b[0;32m----> 1\u001b[0;31m \u001b[0mindices\u001b[0m \u001b[0;34m=\u001b[0m \u001b[0mholidays\u001b[0m\u001b[0;34m.\u001b[0m\u001b[0mindex\u001b[0m\u001b[0;34m.\u001b[0m\u001b[0mastype\u001b[0m\u001b[0;34m(\u001b[0m\u001b[0mnp\u001b[0m\u001b[0;34m.\u001b[0m\u001b[0mint64\u001b[0m\u001b[0;34m)\u001b[0m\u001b[0;34m.\u001b[0m\u001b[0msearchsorted\u001b[0m\u001b[0;34m(\u001b[0m\u001b[0mdatesFrame\u001b[0m\u001b[0;34m.\u001b[0m\u001b[0mmyDates\u001b[0m\u001b[0;34m)\u001b[0m\u001b[0;34m\u001b[0m\u001b[0m\n\u001b[0m\u001b[1;32m      2\u001b[0m \u001b[0;31m# array([1, 6, 9, 3])\u001b[0m\u001b[0;34m\u001b[0m\u001b[0;34m\u001b[0m\u001b[0m\n\u001b[1;32m      3\u001b[0m \u001b[0mnext_nearest\u001b[0m \u001b[0;34m=\u001b[0m \u001b[0mholidays\u001b[0m\u001b[0;34m[\u001b[0m\u001b[0mindices\u001b[0m\u001b[0;34m]\u001b[0m\u001b[0;34m\u001b[0m\u001b[0m\n",
      "\u001b[0;31mTypeError\u001b[0m: invalid type promotion"
     ]
    }
   ],
   "source": [
    "indices = holidays.index.astype(np.int64).searchsorted(datesFrame.myDates)\n",
    "# array([1, 6, 9, 3])\n",
    "next_nearest = holidays[indices]"
   ]
  },
  {
   "cell_type": "code",
   "execution_count": 4,
   "metadata": {
    "collapsed": false
   },
   "outputs": [
    {
     "data": {
      "text/plain": [
       "DatetimeIndex(['2016-01-18', '2016-10-10', '2016-12-26', '2016-05-30'], dtype='datetime64[ns]', freq=None)"
      ]
     },
     "execution_count": 4,
     "metadata": {},
     "output_type": "execute_result"
    }
   ],
   "source": [
    "next_nearest"
   ]
  },
  {
   "cell_type": "code",
   "execution_count": 5,
   "metadata": {
    "collapsed": true
   },
   "outputs": [],
   "source": [
    "next_nearest_diff = pd.to_timedelta(next_nearest.values - dates.values).days"
   ]
  },
  {
   "cell_type": "code",
   "execution_count": 6,
   "metadata": {
    "collapsed": false
   },
   "outputs": [
    {
     "data": {
      "text/plain": [
       "array([15, 31, 14, 88])"
      ]
     },
     "execution_count": 6,
     "metadata": {},
     "output_type": "execute_result"
    }
   ],
   "source": [
    "next_nearest_diff"
   ]
  },
  {
   "cell_type": "code",
   "execution_count": 11,
   "metadata": {
    "collapsed": false
   },
   "outputs": [],
   "source": [
    "#from datetime import date\n",
    "#from workalendar.europe import Germany\n",
    "#cal = Germany()\n",
    "#cal.holidays(2012)\n",
    "#[(datetime.date(2012, 1, 1), 'New year'),\n",
    "# (datetime.date(2012, 4, 9), 'Easter Monday'),\n",
    "# (datetime.date(2012, 5, 1), 'Labour Day'),\n",
    "# (datetime.date(2012, 5, 8), 'Victory in Europe Day'),\n",
    "# (datetime.date(2012, 5, 17), 'Ascension Day'),\n",
    "# (datetime.date(2012, 5, 28), 'Whit Monday'),\n",
    "# (datetime.date(2012, 7, 14), 'Bastille Day'),\n",
    "# (datetime.date(2012, 8, 15), 'Assumption of Mary to Heaven'),\n",
    "# (datetime.date(2012, 11, 1), \"All Saints' Day\"),\n",
    "# (datetime.date(2012, 11, 11), 'Armistice Day'),\n",
    "# (datetime.date(2012, 12, 25), 'Christmas')]\n",
    "#cal.is_working_day(date(2012, 12, 25))  # it's Christmas\n",
    "#cal.is_working_day(date(2012, 12, 30))  # it's Sunday\n",
    "#cal.is_working_day(date(2012, 12, 26))\n",
    "#cal.add_working_days(date(2012, 12, 23), 5)  # 5 working days after Xmas\n",
    "#datetime.date(2012, 12, 31)"
   ]
  }
 ],
 "metadata": {
  "kernelspec": {
   "display_name": "Python 3",
   "language": "python",
   "name": "python3"
  },
  "language_info": {
   "codemirror_mode": {
    "name": "ipython",
    "version": 3
   },
   "file_extension": ".py",
   "mimetype": "text/x-python",
   "name": "python",
   "nbconvert_exporter": "python",
   "pygments_lexer": "ipython3",
   "version": "3.5.2"
  }
 },
 "nbformat": 4,
 "nbformat_minor": 1
}
