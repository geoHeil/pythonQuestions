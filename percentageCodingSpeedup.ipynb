{
 "cells": [
  {
   "cell_type": "markdown",
   "metadata": {},
   "source": [
    "# percentage coding speeup\n",
    "a nicer example here for  http://stackoverflow.com/questions/43771213/"
   ]
  },
  {
   "cell_type": "code",
   "execution_count": 2,
   "metadata": {
    "collapsed": true
   },
   "outputs": [],
   "source": [
    "import pandas as pd\n",
    "from sklearn.base import TransformerMixin\n",
    "from sklearn.pipeline import Pipeline\n",
    "from dask import dataframe as dd"
   ]
  },
  {
   "cell_type": "markdown",
   "metadata": {},
   "source": [
    "## create a minimal sample dataset"
   ]
  },
  {
   "cell_type": "code",
   "execution_count": null,
   "metadata": {
    "collapsed": true
   },
   "outputs": [],
   "source": [
    "# original one\n",
    "raw_data = {\n",
    "        'subject_id': ['1', '2', '3', '4', '5'],\n",
    "        'name': ['A', 'B', 'C', 'D', 'E'],\n",
    "        'nationality': ['DE', 'AUT', 'US', 'US', 'US'],\n",
    "        'alotdifferent': ['x', 'y', 'z', 'x', 'a'],\n",
    "        'target': [0,0,0,1,1],\n",
    "        'age_group' : [1, 2, 1, 3, 1]}\n",
    "df_a = pd.DataFrame(raw_data, columns = ['subject_id', 'name', 'nationality', 'alotdifferent','target','age_group'])\n",
    "df_a.nationality = df_a.nationality.astype('category')\n",
    "df_a.alotdifferent = df_a.alotdifferent.astype('category')\n",
    "df_a.name = df_a.name.astype('category')\n",
    "\n",
    "df_a"
   ]
  },
  {
   "cell_type": "code",
   "execution_count": 41,
   "metadata": {},
   "outputs": [
    {
     "data": {
      "text/html": [
       "<div>\n",
       "<table border=\"1\" class=\"dataframe\">\n",
       "  <thead>\n",
       "    <tr style=\"text-align: right;\">\n",
       "      <th></th>\n",
       "      <th>subject_id</th>\n",
       "      <th>name</th>\n",
       "      <th>nationality</th>\n",
       "      <th>alotdifferent</th>\n",
       "      <th>target</th>\n",
       "      <th>age_group</th>\n",
       "    </tr>\n",
       "  </thead>\n",
       "  <tbody>\n",
       "    <tr>\n",
       "      <th>0</th>\n",
       "      <td>1</td>\n",
       "      <td>A</td>\n",
       "      <td>DE</td>\n",
       "      <td>x</td>\n",
       "      <td>0</td>\n",
       "      <td>1</td>\n",
       "    </tr>\n",
       "    <tr>\n",
       "      <th>1</th>\n",
       "      <td>2</td>\n",
       "      <td>A</td>\n",
       "      <td>AUT</td>\n",
       "      <td>y</td>\n",
       "      <td>0</td>\n",
       "      <td>2</td>\n",
       "    </tr>\n",
       "    <tr>\n",
       "      <th>2</th>\n",
       "      <td>3</td>\n",
       "      <td>C</td>\n",
       "      <td>US</td>\n",
       "      <td>z</td>\n",
       "      <td>0</td>\n",
       "      <td>1</td>\n",
       "    </tr>\n",
       "    <tr>\n",
       "      <th>3</th>\n",
       "      <td>4</td>\n",
       "      <td>A</td>\n",
       "      <td>US</td>\n",
       "      <td>x</td>\n",
       "      <td>1</td>\n",
       "      <td>3</td>\n",
       "    </tr>\n",
       "    <tr>\n",
       "      <th>4</th>\n",
       "      <td>5</td>\n",
       "      <td>C</td>\n",
       "      <td>US</td>\n",
       "      <td>a</td>\n",
       "      <td>1</td>\n",
       "      <td>1</td>\n",
       "    </tr>\n",
       "  </tbody>\n",
       "</table>\n",
       "</div>"
      ],
      "text/plain": [
       "  subject_id name nationality alotdifferent  target  age_group\n",
       "0          1    A          DE             x       0          1\n",
       "1          2    A         AUT             y       0          2\n",
       "2          3    C          US             z       0          1\n",
       "3          4    A          US             x       1          3\n",
       "4          5    C          US             a       1          1"
      ]
     },
     "execution_count": 41,
     "metadata": {},
     "output_type": "execute_result"
    }
   ],
   "source": [
    "# to illustrate the question\n",
    "raw_data = {\n",
    "        'subject_id': ['1', '2', '3', '4', '5'],\n",
    "        'name': ['A', 'A', 'C', 'A', 'C'],\n",
    "        'nationality': ['DE', 'AUT', 'US', 'US', 'US'],\n",
    "        'alotdifferent': ['x', 'y', 'z', 'x', 'a'],\n",
    "        'target': [0,0,0,1,1],\n",
    "        'age_group' : [1, 2, 1, 3, 1]}\n",
    "df_a = pd.DataFrame(raw_data, columns = ['subject_id', 'name', 'nationality', 'alotdifferent','target','age_group'])\n",
    "df_a.nationality = df_a.nationality.astype('category')\n",
    "df_a.alotdifferent = df_a.alotdifferent.astype('category')\n",
    "df_a.name = df_a.name.astype('category')\n",
    "\n",
    "df_a"
   ]
  },
  {
   "cell_type": "markdown",
   "metadata": {},
   "source": [
    "## define transformer\n",
    "\n",
    "### TODO - refactoring for dask - maybe? if it turns out to be more efficient\n",
    "1. define simple task transformer replacement / dropin\n",
    "2. create full pipeline in dask\n",
    "2.1 calculate *perentatge1* and *percentage2* in a single pass\n",
    "3. automatically determine parallelism level"
   ]
  },
  {
   "cell_type": "code",
   "execution_count": 4,
   "metadata": {
    "collapsed": true
   },
   "outputs": [],
   "source": [
    "class DaskPercentageTransformer(TransformerMixin):\n",
    "    def __init__(self, colname, typePercentage='totalTarget', _target='target', _dropOriginal=True, parallelism=8):\n",
    "        self.colname = colname\n",
    "        self._target = _target\n",
    "        self._dropOriginal = _dropOriginal\n",
    "        self.typePercentage = typePercentage\n",
    "        self.parallelism = parallelism\n",
    "\n",
    "    def fit(self, X, y, **kwargs):\n",
    "        original = dd.from_pandas(pd.concat([y, X], axis=1), self.parallelism)\n",
    "        grouped = original.groupby([self.colname, self._target]).size()\n",
    "        if self.typePercentage == 'totalTarget':\n",
    "            df = grouped / original[self._target].sum()\n",
    "        else:\n",
    "            df = (grouped / grouped.groupby(level=0).sum())\n",
    "\n",
    "        if self.typePercentage == 'totalTarget':\n",
    "            nameCol = \"pre_\" + self.colname\n",
    "        else:\n",
    "            nameCol = \"pre2_\" + self.colname\n",
    "        self.nameCol = nameCol\n",
    "        grouped = df.reset_index(name=nameCol)\n",
    "        groupedOnly = grouped[grouped[self._target] == 1]\n",
    "        groupedOnly = groupedOnly.drop(self._target, 1)\n",
    "\n",
    "        self.result = groupedOnly.compute()\n",
    "        return self\n",
    "\n",
    "    def transform(self, dataF):\n",
    "        mergedThing = dd.from_pandas(pd.merge(dataF, self.result, on=self.colname, how='left'), self.parallelism)\n",
    "        mergedThing.loc[(mergedThing[self.nameCol].isnull()), self.nameCol] = 0\n",
    "        if self._dropOriginal:\n",
    "            mergedThing = mergedThing.drop(self.colname, 1)\n",
    "        return mergedThing.compute()"
   ]
  },
  {
   "cell_type": "code",
   "execution_count": 8,
   "metadata": {
    "collapsed": true
   },
   "outputs": [],
   "source": [
    "class PercentageTransformer(TransformerMixin):\n",
    "    def __init__(self, colname, typePercentage='totalTarget', _target='target', _dropOriginal=True):\n",
    "        self.colname = colname\n",
    "        self._target = _target\n",
    "        self._dropOriginal = _dropOriginal\n",
    "        self.typePercentage = typePercentage\n",
    "\n",
    "    def fit(self, X, y, **kwargs):\n",
    "        original = pd.concat([y, X], axis=1)\n",
    "        grouped = original.groupby([self.colname, self._target]).size()\n",
    "        if self.typePercentage == 'totalTarget':\n",
    "            df = grouped / original[self._target].sum()\n",
    "        else:\n",
    "            df = (grouped / grouped.groupby(level=0).sum())\n",
    "\n",
    "        if self.typePercentage == 'totalTarget':\n",
    "            nameCol = \"pre_\" + self.colname\n",
    "        else:\n",
    "            nameCol = \"pre2_\" + self.colname\n",
    "        self.nameCol = nameCol\n",
    "        grouped = df.reset_index(name=nameCol)\n",
    "        groupedOnly = grouped[grouped[self._target] == 1]\n",
    "        groupedOnly = groupedOnly.drop(self._target, 1)\n",
    "\n",
    "        self.result = groupedOnly\n",
    "        return self\n",
    "\n",
    "    def transform(self, dataF):\n",
    "        mergedThing = pd.merge(dataF, self.result, on=self.colname, how='left')\n",
    "        mergedThing.loc[(mergedThing[self.nameCol].isnull()), self.nameCol] = 0\n",
    "        if self._dropOriginal:\n",
    "            mergedThing = mergedThing.drop(self.colname, 1)\n",
    "        return mergedThing\n",
    "\n",
    "\n",
    "class PercentageAllTransformer(TransformerMixin):\n",
    "    def __init__(self, columnsToTransform, _colBiasDrop=None, typePercentage='totalTarget', _target='target',\n",
    "                 _dropOriginal=True, variant='pd'):\n",
    "        # print(\n",
    "        #    'WARN: mutually exclusive options: either _colBiasDrop is None and then _dropOriginal can be True or _colBiasDrop is set and _dropOriginal must be false')\n",
    "        self._target = _target\n",
    "        self._dropOriginal = _dropOriginal\n",
    "        self.typePercentage = typePercentage\n",
    "        self.transformers = {}\n",
    "        self.colsToBias = columnsToTransform\n",
    "        self._colBiasDrop = _colBiasDrop\n",
    "        self.variant = variant\n",
    "\n",
    "    def fit(self, X, y, **kwargs):\n",
    "        if self._colBiasDrop is not None:\n",
    "            colToIterate = self.colsToBias.union(self._colBiasDrop)\n",
    "        else:\n",
    "            colToIterate = self.colsToBias\n",
    "        for col in colToIterate:\n",
    "            # print('percentage fit ' + col)\n",
    "            if (self.variant == 'pd'):\n",
    "                myTransf = PercentageTransformer(col, typePercentage=self.typePercentage, _target=self._target,\n",
    "                                                 _dropOriginal=False)  # deliberately set to False to enable multi-drop\n",
    "            if (self.variant == 'dask'):\n",
    "                myTransf = DaskPercentageTransformer(col, typePercentage=self.typePercentage, _target=self._target,\n",
    "                                                 _dropOriginal=False)  # deliberately set to False to enable multi-drop\n",
    "            self.transformers[col] = myTransf.fit(X, y)\n",
    "        return self\n",
    "\n",
    "    def transform(self, X):\n",
    "        transformed = None\n",
    "        for col in self.colsToBias:\n",
    "            # print('percentage transform ' + col)\n",
    "            if transformed is None:\n",
    "                transformed = self.transformers[col].transform(X)\n",
    "            else:\n",
    "                intermediate = self.transformers[col].transform(X)\n",
    "                if self.typePercentage == 'totalTarget':\n",
    "                    intermediate = intermediate[['pre_' + col]]\n",
    "                else:\n",
    "                    intermediate = intermediate[['pre2_' + col]]\n",
    "                transformed = pd.concat([transformed, intermediate], axis=1)\n",
    "        if self._dropOriginal:\n",
    "            transformed = transformed.drop(self.colsToBias, axis=1)\n",
    "        if self._colBiasDrop is not None:\n",
    "            transformed = transformed.drop(self._colBiasDrop, axis=1)\n",
    "        return transformed"
   ]
  },
  {
   "cell_type": "code",
   "execution_count": 39,
   "metadata": {},
   "outputs": [
    {
     "name": "stdout",
     "output_type": "stream",
     "text": [
      "Index(['name', 'nationality'], dtype='object')\n"
     ]
    }
   ],
   "source": [
    "FACTOR_FIELDS = df_a.select_dtypes(include=['category']).columns\n",
    "columnsToDrop = ['alotdifferent']\n",
    "columnsToBias_keep = FACTOR_FIELDS[~FACTOR_FIELDS.isin(columnsToDrop)]\n",
    "print(columnsToBias_keep)\n",
    "factors = Pipeline([\n",
    "                ('contrast1', PercentageAllTransformer(columnsToBias_keep.union(columnsToDrop), _colBiasDrop=None,\n",
    "                                                   _dropOriginal=False, typePercentage='totalTarget')),\n",
    "                ('contrast2',\n",
    "                 PercentageAllTransformer(columnsToBias_keep, _colBiasDrop=columnsToDrop, _dropOriginal=False,\n",
    "                                          typePercentage='groupwise')),\n",
    "            ])\n",
    "\n",
    "factorsDask = Pipeline([\n",
    "                ('contrast1', PercentageAllTransformer(columnsToBias_keep.union(columnsToDrop), _colBiasDrop=None,\n",
    "                                                   _dropOriginal=False, typePercentage='totalTarget', variant='dask')),\n",
    "                ('contrast2',\n",
    "                 PercentageAllTransformer(columnsToBias_keep, _colBiasDrop=columnsToDrop, _dropOriginal=True,\n",
    "                                          typePercentage='groupwise', variant='dask')),\n",
    "            ])"
   ]
  },
  {
   "cell_type": "markdown",
   "metadata": {},
   "source": [
    "## view result"
   ]
  },
  {
   "cell_type": "code",
   "execution_count": 42,
   "metadata": {},
   "outputs": [
    {
     "name": "stdout",
     "output_type": "stream",
     "text": [
      "CPU times: user 49.9 ms, sys: 1.93 ms, total: 51.8 ms\n",
      "Wall time: 50.4 ms\n"
     ]
    },
    {
     "data": {
      "text/html": [
       "<div>\n",
       "<table border=\"1\" class=\"dataframe\">\n",
       "  <thead>\n",
       "    <tr style=\"text-align: right;\">\n",
       "      <th></th>\n",
       "      <th>subject_id</th>\n",
       "      <th>name</th>\n",
       "      <th>nationality</th>\n",
       "      <th>age_group</th>\n",
       "      <th>pre_alotdifferent</th>\n",
       "      <th>pre_name</th>\n",
       "      <th>pre_nationality</th>\n",
       "      <th>pre2_name</th>\n",
       "      <th>pre2_nationality</th>\n",
       "    </tr>\n",
       "  </thead>\n",
       "  <tbody>\n",
       "    <tr>\n",
       "      <th>0</th>\n",
       "      <td>1</td>\n",
       "      <td>A</td>\n",
       "      <td>DE</td>\n",
       "      <td>1</td>\n",
       "      <td>0.5</td>\n",
       "      <td>0.5</td>\n",
       "      <td>0.0</td>\n",
       "      <td>0.333333</td>\n",
       "      <td>0.000000</td>\n",
       "    </tr>\n",
       "    <tr>\n",
       "      <th>1</th>\n",
       "      <td>2</td>\n",
       "      <td>A</td>\n",
       "      <td>AUT</td>\n",
       "      <td>2</td>\n",
       "      <td>0.0</td>\n",
       "      <td>0.5</td>\n",
       "      <td>0.0</td>\n",
       "      <td>0.333333</td>\n",
       "      <td>0.000000</td>\n",
       "    </tr>\n",
       "    <tr>\n",
       "      <th>2</th>\n",
       "      <td>3</td>\n",
       "      <td>C</td>\n",
       "      <td>US</td>\n",
       "      <td>1</td>\n",
       "      <td>0.0</td>\n",
       "      <td>0.5</td>\n",
       "      <td>1.0</td>\n",
       "      <td>0.500000</td>\n",
       "      <td>0.666667</td>\n",
       "    </tr>\n",
       "    <tr>\n",
       "      <th>3</th>\n",
       "      <td>4</td>\n",
       "      <td>A</td>\n",
       "      <td>US</td>\n",
       "      <td>3</td>\n",
       "      <td>0.5</td>\n",
       "      <td>0.5</td>\n",
       "      <td>1.0</td>\n",
       "      <td>0.333333</td>\n",
       "      <td>0.666667</td>\n",
       "    </tr>\n",
       "    <tr>\n",
       "      <th>4</th>\n",
       "      <td>5</td>\n",
       "      <td>C</td>\n",
       "      <td>US</td>\n",
       "      <td>1</td>\n",
       "      <td>0.5</td>\n",
       "      <td>0.5</td>\n",
       "      <td>1.0</td>\n",
       "      <td>0.500000</td>\n",
       "      <td>0.666667</td>\n",
       "    </tr>\n",
       "  </tbody>\n",
       "</table>\n",
       "</div>"
      ],
      "text/plain": [
       "  subject_id name nationality  age_group  pre_alotdifferent  pre_name  \\\n",
       "0          1    A          DE          1                0.5       0.5   \n",
       "1          2    A         AUT          2                0.0       0.5   \n",
       "2          3    C          US          1                0.0       0.5   \n",
       "3          4    A          US          3                0.5       0.5   \n",
       "4          5    C          US          1                0.5       0.5   \n",
       "\n",
       "   pre_nationality  pre2_name  pre2_nationality  \n",
       "0              0.0   0.333333          0.000000  \n",
       "1              0.0   0.333333          0.000000  \n",
       "2              1.0   0.500000          0.666667  \n",
       "3              1.0   0.333333          0.666667  \n",
       "4              1.0   0.500000          0.666667  "
      ]
     },
     "execution_count": 42,
     "metadata": {},
     "output_type": "execute_result"
    }
   ],
   "source": [
    "%time factors.fit_transform(df_a.drop(['target'], axis=1), df_a['target'])"
   ]
  },
  {
   "cell_type": "code",
   "execution_count": 12,
   "metadata": {},
   "outputs": [],
   "source": [
    "# does not yet work as outlined in SF\n",
    "#%time factorsDask.fit_transform(df_a.drop(['target'], axis=1), df_a['target'])"
   ]
  },
  {
   "cell_type": "markdown",
   "metadata": {
    "collapsed": true
   },
   "source": [
    "## open questions\n",
    "- how to speed up?\n",
    "- how to parallelize columns? (or is there a better way to speed up?)\n",
    "\n",
    "## dask playground"
   ]
  },
  {
   "cell_type": "code",
   "execution_count": 31,
   "metadata": {},
   "outputs": [
    {
     "name": "stdout",
     "output_type": "stream",
     "text": [
      "  name  target  pre_name\n",
      "0    A       0       0.5\n",
      "1    B       0       0.5\n",
      "2    C       0       0.5\n",
      "3    D       1       0.5\n",
      "4    E       1       0.5\n"
     ]
    },
    {
     "data": {
      "text/html": [
       "<div>\n",
       "<table border=\"1\" class=\"dataframe\">\n",
       "  <thead>\n",
       "    <tr style=\"text-align: right;\">\n",
       "      <th></th>\n",
       "      <th>subject_id</th>\n",
       "      <th>name</th>\n",
       "      <th>nationality</th>\n",
       "      <th>alotdifferent</th>\n",
       "      <th>target_x</th>\n",
       "      <th>age_group</th>\n",
       "      <th>target_y</th>\n",
       "      <th>pre_name</th>\n",
       "    </tr>\n",
       "  </thead>\n",
       "  <tbody>\n",
       "    <tr>\n",
       "      <th>0</th>\n",
       "      <td>1</td>\n",
       "      <td>A</td>\n",
       "      <td>DE</td>\n",
       "      <td>x</td>\n",
       "      <td>0</td>\n",
       "      <td>1</td>\n",
       "      <td>0</td>\n",
       "      <td>0.5</td>\n",
       "    </tr>\n",
       "    <tr>\n",
       "      <th>1</th>\n",
       "      <td>2</td>\n",
       "      <td>B</td>\n",
       "      <td>AUT</td>\n",
       "      <td>y</td>\n",
       "      <td>0</td>\n",
       "      <td>2</td>\n",
       "      <td>0</td>\n",
       "      <td>0.5</td>\n",
       "    </tr>\n",
       "    <tr>\n",
       "      <th>2</th>\n",
       "      <td>3</td>\n",
       "      <td>C</td>\n",
       "      <td>US</td>\n",
       "      <td>z</td>\n",
       "      <td>0</td>\n",
       "      <td>1</td>\n",
       "      <td>0</td>\n",
       "      <td>0.5</td>\n",
       "    </tr>\n",
       "    <tr>\n",
       "      <th>3</th>\n",
       "      <td>4</td>\n",
       "      <td>D</td>\n",
       "      <td>US</td>\n",
       "      <td>x</td>\n",
       "      <td>1</td>\n",
       "      <td>3</td>\n",
       "      <td>1</td>\n",
       "      <td>0.5</td>\n",
       "    </tr>\n",
       "    <tr>\n",
       "      <th>4</th>\n",
       "      <td>5</td>\n",
       "      <td>E</td>\n",
       "      <td>US</td>\n",
       "      <td>a</td>\n",
       "      <td>1</td>\n",
       "      <td>1</td>\n",
       "      <td>1</td>\n",
       "      <td>0.5</td>\n",
       "    </tr>\n",
       "  </tbody>\n",
       "</table>\n",
       "</div>"
      ],
      "text/plain": [
       "  subject_id name nationality alotdifferent  target_x  age_group  target_y  \\\n",
       "0          1    A          DE             x         0          1         0   \n",
       "1          2    B         AUT             y         0          2         0   \n",
       "2          3    C          US             z         0          1         0   \n",
       "3          4    D          US             x         1          3         1   \n",
       "4          5    E          US             a         1          1         1   \n",
       "\n",
       "   pre_name  \n",
       "0       0.5  \n",
       "1       0.5  \n",
       "2       0.5  \n",
       "3       0.5  \n",
       "4       0.5  "
      ]
     },
     "execution_count": 31,
     "metadata": {},
     "output_type": "execute_result"
    }
   ],
   "source": [
    "original = df_a\n",
    "colname = 'name'\n",
    "target = 'target'\n",
    "grouped = original.groupby([colname, target]).size()\n",
    "df = grouped / original[target].sum()\n",
    "nameCol = \"pre_\" + colname\n",
    "result = df.reset_index(name=nameCol)\n",
    "print(result)\n",
    "\n",
    "mergedThing = pd.merge(df_a, result, on=colname, how='left')\n",
    "mergedThing.loc[(mergedThing[nameCol].isnull()), nameCol] = 0\n",
    "mergedThing"
   ]
  },
  {
   "cell_type": "code",
   "execution_count": 34,
   "metadata": {},
   "outputs": [
    {
     "name": "stdout",
     "output_type": "stream",
     "text": [
      "  nationality  target  pre_nationality\n",
      "0         AUT       0              0.5\n",
      "1          DE       0              0.5\n",
      "2          US       0              0.5\n",
      "3          US       1              1.0\n",
      "(5, 6)\n"
     ]
    },
    {
     "data": {
      "text/html": [
       "<div>\n",
       "<table border=\"1\" class=\"dataframe\">\n",
       "  <thead>\n",
       "    <tr style=\"text-align: right;\">\n",
       "      <th></th>\n",
       "      <th>subject_id</th>\n",
       "      <th>name</th>\n",
       "      <th>nationality</th>\n",
       "      <th>alotdifferent</th>\n",
       "      <th>target_x</th>\n",
       "      <th>age_group</th>\n",
       "      <th>target_y</th>\n",
       "      <th>pre_nationality</th>\n",
       "    </tr>\n",
       "  </thead>\n",
       "  <tbody>\n",
       "    <tr>\n",
       "      <th>0</th>\n",
       "      <td>1</td>\n",
       "      <td>A</td>\n",
       "      <td>DE</td>\n",
       "      <td>x</td>\n",
       "      <td>0</td>\n",
       "      <td>1</td>\n",
       "      <td>0</td>\n",
       "      <td>0.5</td>\n",
       "    </tr>\n",
       "    <tr>\n",
       "      <th>1</th>\n",
       "      <td>2</td>\n",
       "      <td>B</td>\n",
       "      <td>AUT</td>\n",
       "      <td>y</td>\n",
       "      <td>0</td>\n",
       "      <td>2</td>\n",
       "      <td>0</td>\n",
       "      <td>0.5</td>\n",
       "    </tr>\n",
       "    <tr>\n",
       "      <th>2</th>\n",
       "      <td>3</td>\n",
       "      <td>C</td>\n",
       "      <td>US</td>\n",
       "      <td>z</td>\n",
       "      <td>0</td>\n",
       "      <td>1</td>\n",
       "      <td>0</td>\n",
       "      <td>0.5</td>\n",
       "    </tr>\n",
       "    <tr>\n",
       "      <th>3</th>\n",
       "      <td>3</td>\n",
       "      <td>C</td>\n",
       "      <td>US</td>\n",
       "      <td>z</td>\n",
       "      <td>0</td>\n",
       "      <td>1</td>\n",
       "      <td>1</td>\n",
       "      <td>1.0</td>\n",
       "    </tr>\n",
       "    <tr>\n",
       "      <th>4</th>\n",
       "      <td>4</td>\n",
       "      <td>D</td>\n",
       "      <td>US</td>\n",
       "      <td>x</td>\n",
       "      <td>1</td>\n",
       "      <td>3</td>\n",
       "      <td>0</td>\n",
       "      <td>0.5</td>\n",
       "    </tr>\n",
       "    <tr>\n",
       "      <th>5</th>\n",
       "      <td>4</td>\n",
       "      <td>D</td>\n",
       "      <td>US</td>\n",
       "      <td>x</td>\n",
       "      <td>1</td>\n",
       "      <td>3</td>\n",
       "      <td>1</td>\n",
       "      <td>1.0</td>\n",
       "    </tr>\n",
       "    <tr>\n",
       "      <th>6</th>\n",
       "      <td>5</td>\n",
       "      <td>E</td>\n",
       "      <td>US</td>\n",
       "      <td>a</td>\n",
       "      <td>1</td>\n",
       "      <td>1</td>\n",
       "      <td>0</td>\n",
       "      <td>0.5</td>\n",
       "    </tr>\n",
       "    <tr>\n",
       "      <th>7</th>\n",
       "      <td>5</td>\n",
       "      <td>E</td>\n",
       "      <td>US</td>\n",
       "      <td>a</td>\n",
       "      <td>1</td>\n",
       "      <td>1</td>\n",
       "      <td>1</td>\n",
       "      <td>1.0</td>\n",
       "    </tr>\n",
       "  </tbody>\n",
       "</table>\n",
       "</div>"
      ],
      "text/plain": [
       "  subject_id name nationality alotdifferent  target_x  age_group  target_y  \\\n",
       "0          1    A          DE             x         0          1         0   \n",
       "1          2    B         AUT             y         0          2         0   \n",
       "2          3    C          US             z         0          1         0   \n",
       "3          3    C          US             z         0          1         1   \n",
       "4          4    D          US             x         1          3         0   \n",
       "5          4    D          US             x         1          3         1   \n",
       "6          5    E          US             a         1          1         0   \n",
       "7          5    E          US             a         1          1         1   \n",
       "\n",
       "   pre_nationality  \n",
       "0              0.5  \n",
       "1              0.5  \n",
       "2              0.5  \n",
       "3              1.0  \n",
       "4              0.5  \n",
       "5              1.0  \n",
       "6              0.5  \n",
       "7              1.0  "
      ]
     },
     "execution_count": 34,
     "metadata": {},
     "output_type": "execute_result"
    }
   ],
   "source": [
    "original = df_a\n",
    "colname = 'nationality'\n",
    "target = 'target'\n",
    "grouped = original.groupby([colname, target]).size()\n",
    "df = grouped / original[target].sum()\n",
    "nameCol = \"pre_\" + colname\n",
    "result = df.reset_index(name=nameCol)\n",
    "print(result)\n",
    "\n",
    "#mergedThing = \n",
    "print(df_a.shape)\n",
    "pd.merge(df_a, result, on=colname, how='left')\n",
    "#mergedThing.loc[(mergedThing[nameCol].isnull()), nameCol] = 0\n",
    "#mergedThing"
   ]
  },
  {
   "cell_type": "code",
   "execution_count": 19,
   "metadata": {},
   "outputs": [],
   "source": [
    "original = dd.from_pandas(df_a,8)\n",
    "grouped = original.groupby(['name', 'target']).size()\n",
    "df = grouped / original['target'].sum()\n",
    "nameCol = \"pre_\" + 'name'"
   ]
  },
  {
   "cell_type": "code",
   "execution_count": null,
   "metadata": {
    "collapsed": true
   },
   "outputs": [],
   "source": [
    "https://jcrist.github.io/dask-sklearn-part-3.html single pass\n",
    "\n",
    "calculate both aggregations in single pass\n",
    "http://stackoverflow.com/questions/12589481/python-pandas-multiple-aggregations-of-the-same-column"
   ]
  },
  {
   "cell_type": "code",
   "execution_count": 24,
   "metadata": {},
   "outputs": [
    {
     "data": {
      "text/plain": [
       "0    0.5\n",
       "1    0.5\n",
       "2    0.5\n",
       "3    0.5\n",
       "4    0.5\n",
       "dtype: float64"
      ]
     },
     "execution_count": 24,
     "metadata": {},
     "output_type": "execute_result"
    }
   ],
   "source": [
    "df.reset_index(nameCol).compute()"
   ]
  },
  {
   "cell_type": "code",
   "execution_count": 20,
   "metadata": {},
   "outputs": [
    {
     "ename": "TypeError",
     "evalue": "reset_index() got an unexpected keyword argument 'name'",
     "output_type": "error",
     "traceback": [
      "\u001b[0;31m---------------------------------------------------------------------------\u001b[0m",
      "\u001b[0;31mTypeError\u001b[0m                                 Traceback (most recent call last)",
      "\u001b[0;32m<ipython-input-20-636217d97773>\u001b[0m in \u001b[0;36m<module>\u001b[0;34m()\u001b[0m\n\u001b[0;32m----> 1\u001b[0;31m \u001b[0mdf\u001b[0m\u001b[0;34m.\u001b[0m\u001b[0mreset_index\u001b[0m\u001b[0;34m(\u001b[0m\u001b[0mname\u001b[0m\u001b[0;34m=\u001b[0m\u001b[0mnameCol\u001b[0m\u001b[0;34m)\u001b[0m\u001b[0;34m\u001b[0m\u001b[0m\n\u001b[0m",
      "\u001b[0;31mTypeError\u001b[0m: reset_index() got an unexpected keyword argument 'name'"
     ]
    }
   ],
   "source": [
    "df.reset_index(name=nameCol)"
   ]
  },
  {
   "cell_type": "code",
   "execution_count": 13,
   "metadata": {
    "collapsed": true
   },
   "outputs": [],
   "source": [
    "\n",
    "grouped = df.reset_index(name=nameCol)\n",
    "groupedOnly = grouped[grouped[self._target] == 1]\n",
    "groupedOnly = groupedOnly.drop(self._target, 1)\n",
    "\n",
    "self.result = groupedOnly.compute()\n",
    "\n",
    "mergedThing = dd.from_pandas(pd.merge(dataF, self.result, on=self.colname, how='left'), self.parallelism)\n",
    "mergedThing.loc[(mergedThing[self.nameCol].isnull()), self.nameCol] = 0\n",
    "if self._dropOriginal:\n",
    "    mergedThing = mergedThing.drop(self.colname, 1)\n",
    "mergedThing.compute()"
   ]
  },
  {
   "cell_type": "code",
   "execution_count": 15,
   "metadata": {},
   "outputs": [
    {
     "ename": "TypeError",
     "evalue": "reset_index() got an unexpected keyword argument 'name'",
     "output_type": "error",
     "traceback": [
      "\u001b[0;31m---------------------------------------------------------------------------\u001b[0m",
      "\u001b[0;31mTypeError\u001b[0m                                 Traceback (most recent call last)",
      "\u001b[0;32m<ipython-input-15-c7bdfe908fd9>\u001b[0m in \u001b[0;36m<module>\u001b[0;34m()\u001b[0m\n\u001b[0;32m----> 1\u001b[0;31m \u001b[0mmyTransf\u001b[0m\u001b[0;34m.\u001b[0m\u001b[0mfit\u001b[0m\u001b[0;34m(\u001b[0m\u001b[0mdf_a\u001b[0m\u001b[0;34m.\u001b[0m\u001b[0mdrop\u001b[0m\u001b[0;34m(\u001b[0m\u001b[0;34m[\u001b[0m\u001b[0;34m'target'\u001b[0m\u001b[0;34m]\u001b[0m\u001b[0;34m,\u001b[0m \u001b[0maxis\u001b[0m\u001b[0;34m=\u001b[0m\u001b[0;36m1\u001b[0m\u001b[0;34m)\u001b[0m\u001b[0;34m,\u001b[0m \u001b[0mdf_a\u001b[0m\u001b[0;34m[\u001b[0m\u001b[0;34m'target'\u001b[0m\u001b[0;34m]\u001b[0m\u001b[0;34m)\u001b[0m\u001b[0;34m\u001b[0m\u001b[0m\n\u001b[0m",
      "\u001b[0;32m<ipython-input-4-173f840337eb>\u001b[0m in \u001b[0;36mfit\u001b[0;34m(self, X, y, **kwargs)\u001b[0m\n\u001b[1;32m     20\u001b[0m             \u001b[0mnameCol\u001b[0m \u001b[0;34m=\u001b[0m \u001b[0;34m\"pre2_\"\u001b[0m \u001b[0;34m+\u001b[0m \u001b[0mself\u001b[0m\u001b[0;34m.\u001b[0m\u001b[0mcolname\u001b[0m\u001b[0;34m\u001b[0m\u001b[0m\n\u001b[1;32m     21\u001b[0m         \u001b[0mself\u001b[0m\u001b[0;34m.\u001b[0m\u001b[0mnameCol\u001b[0m \u001b[0;34m=\u001b[0m \u001b[0mnameCol\u001b[0m\u001b[0;34m\u001b[0m\u001b[0m\n\u001b[0;32m---> 22\u001b[0;31m         \u001b[0mgrouped\u001b[0m \u001b[0;34m=\u001b[0m \u001b[0mdf\u001b[0m\u001b[0;34m.\u001b[0m\u001b[0mreset_index\u001b[0m\u001b[0;34m(\u001b[0m\u001b[0mname\u001b[0m\u001b[0;34m=\u001b[0m\u001b[0mnameCol\u001b[0m\u001b[0;34m)\u001b[0m\u001b[0;34m\u001b[0m\u001b[0m\n\u001b[0m\u001b[1;32m     23\u001b[0m         \u001b[0mgroupedOnly\u001b[0m \u001b[0;34m=\u001b[0m \u001b[0mgrouped\u001b[0m\u001b[0;34m[\u001b[0m\u001b[0mgrouped\u001b[0m\u001b[0;34m[\u001b[0m\u001b[0mself\u001b[0m\u001b[0;34m.\u001b[0m\u001b[0m_target\u001b[0m\u001b[0;34m]\u001b[0m \u001b[0;34m==\u001b[0m \u001b[0;36m1\u001b[0m\u001b[0;34m]\u001b[0m\u001b[0;34m\u001b[0m\u001b[0m\n\u001b[1;32m     24\u001b[0m         \u001b[0mgroupedOnly\u001b[0m \u001b[0;34m=\u001b[0m \u001b[0mgroupedOnly\u001b[0m\u001b[0;34m.\u001b[0m\u001b[0mdrop\u001b[0m\u001b[0;34m(\u001b[0m\u001b[0mself\u001b[0m\u001b[0;34m.\u001b[0m\u001b[0m_target\u001b[0m\u001b[0;34m,\u001b[0m \u001b[0;36m1\u001b[0m\u001b[0;34m)\u001b[0m\u001b[0;34m\u001b[0m\u001b[0m\n",
      "\u001b[0;31mTypeError\u001b[0m: reset_index() got an unexpected keyword argument 'name'"
     ]
    }
   ],
   "source": [
    "myTransf.fit(df_a.drop(['target'], axis=1), df_a['target'])"
   ]
  },
  {
   "cell_type": "code",
   "execution_count": null,
   "metadata": {},
   "outputs": [],
   "source": [
    "df = dd.from_pandas(df_a, 8)\n",
    "df"
   ]
  },
  {
   "cell_type": "code",
   "execution_count": null,
   "metadata": {},
   "outputs": [],
   "source": [
    "df.target.sum().visualize()"
   ]
  },
  {
   "cell_type": "code",
   "execution_count": null,
   "metadata": {},
   "outputs": [],
   "source": [
    "df_a"
   ]
  },
  {
   "cell_type": "code",
   "execution_count": null,
   "metadata": {},
   "outputs": [],
   "source": [
    "df.groupby('target').size().compute()"
   ]
  },
  {
   "cell_type": "code",
   "execution_count": null,
   "metadata": {},
   "outputs": [],
   "source": [
    "grouped = df.groupby(['name', 'target']).size()\n",
    "(grouped / df.target.sum()).compute()"
   ]
  },
  {
   "cell_type": "code",
   "execution_count": null,
   "metadata": {
    "collapsed": true
   },
   "outputs": [],
   "source": [
    "original = pd.concat([y, X], axis=1)\n",
    "        grouped = original.groupby([self.colname, self._target]).size()\n",
    "        if self.typePercentage == 'totalTarget':\n",
    "            df = grouped / original[self._target].sum()\n",
    "        else:\n",
    "            df = (grouped / grouped.groupby(level=0).sum())\n",
    "\n",
    "        if self.typePercentage == 'totalTarget':\n",
    "            nameCol = \"pre_\" + self.colname\n",
    "        else:\n",
    "            nameCol = \"pre2_\" + self.colname\n",
    "        self.nameCol = nameCol\n",
    "        grouped = df.reset_index(name=nameCol)\n",
    "        groupedOnly = grouped[grouped[self._target] == 1]\n",
    "        groupedOnly = groupedOnly.drop(self._target, 1)\n",
    "\n",
    "        self.result = groupedOnly\n",
    "        return self\n",
    "\n",
    "    def transform(self, dataF):\n",
    "        mergedThing = pd.merge(dataF, self.result, on=self.colname, how='left')\n",
    "        mergedThing.loc[(mergedThing[self.nameCol].isnull()), self.nameCol] = 0\n",
    "        if self._dropOriginal:\n",
    "            mergedThing = mergedThing.drop(self.colname, 1)"
   ]
  }
 ],
 "metadata": {
  "kernelspec": {
   "display_name": "Python 3",
   "language": "python",
   "name": "python3"
  },
  "language_info": {
   "codemirror_mode": {
    "name": "ipython",
    "version": 3
   },
   "file_extension": ".py",
   "mimetype": "text/x-python",
   "name": "python",
   "nbconvert_exporter": "python",
   "pygments_lexer": "ipython3",
   "version": "3.6.1"
  }
 },
 "nbformat": 4,
 "nbformat_minor": 2
}
