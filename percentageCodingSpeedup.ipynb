{
 "cells": [
  {
   "cell_type": "markdown",
   "metadata": {},
   "source": [
    "# percentage coding speeup\n",
    "a nicer example here for  http://stackoverflow.com/questions/43771213/"
   ]
  },
  {
   "cell_type": "code",
   "execution_count": 1,
   "metadata": {
    "collapsed": true
   },
   "outputs": [],
   "source": [
    "import pandas as pd\n",
    "from sklearn.base import TransformerMixin\n",
    "from sklearn.pipeline import Pipeline"
   ]
  },
  {
   "cell_type": "markdown",
   "metadata": {},
   "source": [
    "## create a minimal sample dataset"
   ]
  },
  {
   "cell_type": "code",
   "execution_count": 2,
   "metadata": {},
   "outputs": [
    {
     "data": {
      "text/html": [
       "<div>\n",
       "<table border=\"1\" class=\"dataframe\">\n",
       "  <thead>\n",
       "    <tr style=\"text-align: right;\">\n",
       "      <th></th>\n",
       "      <th>subject_id</th>\n",
       "      <th>name</th>\n",
       "      <th>nationality</th>\n",
       "      <th>alotdifferent</th>\n",
       "      <th>target</th>\n",
       "      <th>age_group</th>\n",
       "    </tr>\n",
       "  </thead>\n",
       "  <tbody>\n",
       "    <tr>\n",
       "      <th>0</th>\n",
       "      <td>1</td>\n",
       "      <td>A</td>\n",
       "      <td>DE</td>\n",
       "      <td>x</td>\n",
       "      <td>0</td>\n",
       "      <td>1</td>\n",
       "    </tr>\n",
       "    <tr>\n",
       "      <th>1</th>\n",
       "      <td>2</td>\n",
       "      <td>B</td>\n",
       "      <td>AUT</td>\n",
       "      <td>y</td>\n",
       "      <td>0</td>\n",
       "      <td>2</td>\n",
       "    </tr>\n",
       "    <tr>\n",
       "      <th>2</th>\n",
       "      <td>3</td>\n",
       "      <td>C</td>\n",
       "      <td>US</td>\n",
       "      <td>z</td>\n",
       "      <td>0</td>\n",
       "      <td>1</td>\n",
       "    </tr>\n",
       "    <tr>\n",
       "      <th>3</th>\n",
       "      <td>4</td>\n",
       "      <td>D</td>\n",
       "      <td>US</td>\n",
       "      <td>x</td>\n",
       "      <td>1</td>\n",
       "      <td>3</td>\n",
       "    </tr>\n",
       "    <tr>\n",
       "      <th>4</th>\n",
       "      <td>5</td>\n",
       "      <td>E</td>\n",
       "      <td>US</td>\n",
       "      <td>a</td>\n",
       "      <td>1</td>\n",
       "      <td>1</td>\n",
       "    </tr>\n",
       "  </tbody>\n",
       "</table>\n",
       "</div>"
      ],
      "text/plain": [
       "  subject_id name nationality alotdifferent  target  age_group\n",
       "0          1    A          DE             x       0          1\n",
       "1          2    B         AUT             y       0          2\n",
       "2          3    C          US             z       0          1\n",
       "3          4    D          US             x       1          3\n",
       "4          5    E          US             a       1          1"
      ]
     },
     "execution_count": 2,
     "metadata": {},
     "output_type": "execute_result"
    }
   ],
   "source": [
    "raw_data = {\n",
    "        'subject_id': ['1', '2', '3', '4', '5'],\n",
    "        'name': ['A', 'B', 'C', 'D', 'E'],\n",
    "        'nationality': ['DE', 'AUT', 'US', 'US', 'US'],\n",
    "        'alotdifferent': ['x', 'y', 'z', 'x', 'a'],\n",
    "        'target': [0,0,0,1,1],\n",
    "        'age_group' : [1, 2, 1, 3, 1]}\n",
    "df_a = pd.DataFrame(raw_data, columns = ['subject_id', 'name', 'nationality', 'alotdifferent','target','age_group'])\n",
    "df_a.nationality = df_a.nationality.astype('category')\n",
    "df_a.alotdifferent = df_a.alotdifferent.astype('category')\n",
    "df_a.name = df_a.name.astype('category')\n",
    "df_a"
   ]
  },
  {
   "cell_type": "markdown",
   "metadata": {},
   "source": [
    "## define transformer"
   ]
  },
  {
   "cell_type": "code",
   "execution_count": 3,
   "metadata": {
    "collapsed": true
   },
   "outputs": [],
   "source": [
    "class PercentageTransformer(TransformerMixin):\n",
    "    def __init__(self, colname, typePercentage='totalTarget', _target='target', _dropOriginal=True):\n",
    "        self.colname = colname\n",
    "        self._target = _target\n",
    "        self._dropOriginal = _dropOriginal\n",
    "        self.typePercentage = typePercentage\n",
    "\n",
    "    def fit(self, X, y, **kwargs):\n",
    "        original = pd.concat([y, X], axis=1)\n",
    "        grouped = original.groupby([self.colname, self._target]).size()\n",
    "        if self.typePercentage == 'totalTarget':\n",
    "            df = grouped / original[self._target].sum()\n",
    "        else:\n",
    "            df = (grouped / grouped.groupby(level=0).sum())\n",
    "\n",
    "        if self.typePercentage == 'totalTarget':\n",
    "            nameCol = \"pre_\" + self.colname\n",
    "        else:\n",
    "            nameCol = \"pre2_\" + self.colname\n",
    "        self.nameCol = nameCol\n",
    "        grouped = df.reset_index(name=nameCol)\n",
    "        groupedOnly = grouped[grouped[self._target] == 1]\n",
    "        groupedOnly = groupedOnly.drop(self._target, 1)\n",
    "\n",
    "        self.result = groupedOnly\n",
    "        return self\n",
    "\n",
    "    def transform(self, dataF):\n",
    "        mergedThing = pd.merge(dataF, self.result, on=self.colname, how='left')\n",
    "        mergedThing.loc[(mergedThing[self.nameCol].isnull()), self.nameCol] = 0\n",
    "        if self._dropOriginal:\n",
    "            mergedThing = mergedThing.drop(self.colname, 1)\n",
    "        return mergedThing\n",
    "\n",
    "\n",
    "class PercentageAllTransformer(TransformerMixin):\n",
    "    def __init__(self, columnsToTransform, _colBiasDrop=None, typePercentage='totalTarget', _target='target',\n",
    "                 _dropOriginal=True):\n",
    "        # print(\n",
    "        #    'WARN: mutually exclusive options: either _colBiasDrop is None and then _dropOriginal can be True or _colBiasDrop is set and _dropOriginal must be false')\n",
    "        self._target = _target\n",
    "        self._dropOriginal = _dropOriginal\n",
    "        self.typePercentage = typePercentage\n",
    "        self.transformers = {}\n",
    "        self.colsToBias = columnsToTransform\n",
    "        self._colBiasDrop = _colBiasDrop\n",
    "\n",
    "    def fit(self, X, y, **kwargs):\n",
    "        if self._colBiasDrop is not None:\n",
    "            colToIterate = self.colsToBias.union(self._colBiasDrop)\n",
    "        else:\n",
    "            colToIterate = self.colsToBias\n",
    "        for col in colToIterate:\n",
    "            # print('percentage fit ' + col)\n",
    "            myTransf = PercentageTransformer(col, typePercentage=self.typePercentage, _target=self._target,\n",
    "                                             _dropOriginal=False)  # deliberately set to False to enable multi-drop\n",
    "            self.transformers[col] = myTransf.fit(X, y)\n",
    "        return self\n",
    "\n",
    "    def transform(self, X):\n",
    "        transformed = None\n",
    "        for col in self.colsToBias:\n",
    "            # print('percentage transform ' + col)\n",
    "            if transformed is None:\n",
    "                transformed = self.transformers[col].transform(X)\n",
    "            else:\n",
    "                intermediate = self.transformers[col].transform(X)\n",
    "                if self.typePercentage == 'totalTarget':\n",
    "                    intermediate = intermediate[['pre_' + col]]\n",
    "                else:\n",
    "                    intermediate = intermediate[['pre2_' + col]]\n",
    "                transformed = pd.concat([transformed, intermediate], axis=1)\n",
    "        if self._dropOriginal:\n",
    "            transformed = transformed.drop(self.colsToBias, axis=1)\n",
    "        if self._colBiasDrop is not None:\n",
    "            transformed = transformed.drop(self._colBiasDrop, axis=1)\n",
    "        return transformed"
   ]
  },
  {
   "cell_type": "code",
   "execution_count": 4,
   "metadata": {},
   "outputs": [
    {
     "name": "stdout",
     "output_type": "stream",
     "text": [
      "Index(['name', 'nationality'], dtype='object')\n"
     ]
    }
   ],
   "source": [
    "FACTOR_FIELDS = df_a.select_dtypes(include=['category']).columns\n",
    "columnsToDrop = ['alotdifferent']\n",
    "columnsToBias_keep = FACTOR_FIELDS[~FACTOR_FIELDS.isin(columnsToDrop)]\n",
    "print(columnsToBias_keep)\n",
    "factors = Pipeline([\n",
    "                ('contrast1', PercentageAllTransformer(columnsToBias_keep.union(columnsToDrop), _colBiasDrop=None,\n",
    "                                                   _dropOriginal=False, typePercentage='totalTarget')),\n",
    "                ('contrast2',\n",
    "                 PercentageAllTransformer(columnsToBias_keep, _colBiasDrop=columnsToDrop, _dropOriginal=True,\n",
    "                                          typePercentage='groupwise')),\n",
    "            ])"
   ]
  },
  {
   "cell_type": "markdown",
   "metadata": {},
   "source": [
    "## view result"
   ]
  },
  {
   "cell_type": "code",
   "execution_count": 7,
   "metadata": {},
   "outputs": [
    {
     "data": {
      "text/html": [
       "<div>\n",
       "<table border=\"1\" class=\"dataframe\">\n",
       "  <thead>\n",
       "    <tr style=\"text-align: right;\">\n",
       "      <th></th>\n",
       "      <th>subject_id</th>\n",
       "      <th>age_group</th>\n",
       "      <th>pre_alotdifferent</th>\n",
       "      <th>pre_name</th>\n",
       "      <th>pre_nationality</th>\n",
       "      <th>pre2_name</th>\n",
       "      <th>pre2_nationality</th>\n",
       "    </tr>\n",
       "  </thead>\n",
       "  <tbody>\n",
       "    <tr>\n",
       "      <th>0</th>\n",
       "      <td>1</td>\n",
       "      <td>1</td>\n",
       "      <td>0.5</td>\n",
       "      <td>0.0</td>\n",
       "      <td>0.0</td>\n",
       "      <td>0.0</td>\n",
       "      <td>0.000000</td>\n",
       "    </tr>\n",
       "    <tr>\n",
       "      <th>1</th>\n",
       "      <td>2</td>\n",
       "      <td>2</td>\n",
       "      <td>0.0</td>\n",
       "      <td>0.0</td>\n",
       "      <td>0.0</td>\n",
       "      <td>0.0</td>\n",
       "      <td>0.000000</td>\n",
       "    </tr>\n",
       "    <tr>\n",
       "      <th>2</th>\n",
       "      <td>3</td>\n",
       "      <td>1</td>\n",
       "      <td>0.0</td>\n",
       "      <td>0.0</td>\n",
       "      <td>1.0</td>\n",
       "      <td>0.0</td>\n",
       "      <td>0.666667</td>\n",
       "    </tr>\n",
       "    <tr>\n",
       "      <th>3</th>\n",
       "      <td>4</td>\n",
       "      <td>3</td>\n",
       "      <td>0.5</td>\n",
       "      <td>0.5</td>\n",
       "      <td>1.0</td>\n",
       "      <td>1.0</td>\n",
       "      <td>0.666667</td>\n",
       "    </tr>\n",
       "    <tr>\n",
       "      <th>4</th>\n",
       "      <td>5</td>\n",
       "      <td>1</td>\n",
       "      <td>0.5</td>\n",
       "      <td>0.5</td>\n",
       "      <td>1.0</td>\n",
       "      <td>1.0</td>\n",
       "      <td>0.666667</td>\n",
       "    </tr>\n",
       "  </tbody>\n",
       "</table>\n",
       "</div>"
      ],
      "text/plain": [
       "  subject_id  age_group  pre_alotdifferent  pre_name  pre_nationality  \\\n",
       "0          1          1                0.5       0.0              0.0   \n",
       "1          2          2                0.0       0.0              0.0   \n",
       "2          3          1                0.0       0.0              1.0   \n",
       "3          4          3                0.5       0.5              1.0   \n",
       "4          5          1                0.5       0.5              1.0   \n",
       "\n",
       "   pre2_name  pre2_nationality  \n",
       "0        0.0          0.000000  \n",
       "1        0.0          0.000000  \n",
       "2        0.0          0.666667  \n",
       "3        1.0          0.666667  \n",
       "4        1.0          0.666667  "
      ]
     },
     "execution_count": 7,
     "metadata": {},
     "output_type": "execute_result"
    }
   ],
   "source": [
    "factors.fit_transform(df_a.drop(['target'], axis=1), df_a['target'])"
   ]
  },
  {
   "cell_type": "markdown",
   "metadata": {
    "collapsed": true
   },
   "source": [
    "## open questions\n",
    "- how to speed up?\n",
    "- how to parallelize columns? (or is there a better way to speed up?)"
   ]
  },
  {
   "cell_type": "code",
   "execution_count": null,
   "metadata": {
    "collapsed": true
   },
   "outputs": [],
   "source": []
  }
 ],
 "metadata": {
  "kernelspec": {
   "display_name": "Python 3",
   "language": "python",
   "name": "python3"
  },
  "language_info": {
   "codemirror_mode": {
    "name": "ipython",
    "version": 3
   },
   "file_extension": ".py",
   "mimetype": "text/x-python",
   "name": "python",
   "nbconvert_exporter": "python",
   "pygments_lexer": "ipython3",
   "version": "3.6.1"
  }
 },
 "nbformat": 4,
 "nbformat_minor": 2
}
